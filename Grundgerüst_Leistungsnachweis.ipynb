{
 "cells": [
  {
   "cell_type": "markdown",
   "id": "2341b96f",
   "metadata": {},
   "source": [
    "# Grundgerüst Leistungsausweis\n",
    "Dieses Notebook soll euch als Grundgerüst für euren Leistungsnachweis dienen. Es soll euch eine Idee/ Hilfestellung bieten, wie man einen neuen Datensatz, basierend auf einer Fragestellung, strukturiert analysieren und interpretieren kann. Wie besagt, dient das Notebook als Hilfestellung, ist jedoch keinenfalls vollständig ausgeschöpft. In diesem Sinne dürft ihr auch gerne Sachen miteinbeziehen, welche hier nicht genannt werden. \n",
    "\n",
    "-> Bitte schreibt die Antwort zu den jeweiligen Punkten an oberster Stelle unterhalb der Titel (so wie dies auch im Leistungsnachweisbeispiel gemacht wurde).\n",
    "\n",
    "\n",
    "## Struktur\n",
    "1. Fragestellung(en) und Datenbeschaffung\n",
    "2. Daten laden\n",
    "3. Daten vorbereiten\n",
    "4. Statistik der Rohdaten (Generell im Longformat)\n",
    "5. Analyse der Daten\n",
    "\n",
    "**Wichtig:** Alle graphischen Darstellungen sollten mindestens *Titel, Ticks- und Achsenbeschriftung* beinhalten (Siehe plots im Leistungsnachweisbeispiel)\n",
    "\n",
    "---"
   ]
  },
  {
   "cell_type": "markdown",
   "id": "f9e9bf68",
   "metadata": {},
   "source": [
    "## 1. Fragestellung(en) und Datenbeschaffung\n",
    "### 1.1 Titel: \n",
    "- Fettleibigkeit bei Erwachsene\n",
    "### 1.2 Fragestellung:\n",
    "-   Wie hoch ist der prozentuale Anteil der Erwachsenen ab 18 Jahren, die basierend auf gemessener Körpergröße und Gewicht einen BMI von 30 kg/m² oder höher aufweisen?\n",
    "### 1.3 Datenquelle(n):\n",
    "- https://ourworldindata.org/grapher/share-of-adults-defined-as-obese?tab=table \n",
    "\n",
    "\n"
   ]
  },
  {
   "cell_type": "markdown",
   "id": "b5aed369",
   "metadata": {},
   "source": [
    "### 1.4 Daten beschaffen und laden"
   ]
  },
  {
   "cell_type": "code",
   "execution_count": 1,
   "id": "a27050af",
   "metadata": {},
   "outputs": [],
   "source": [
    "# lade deine Bibliotheken -> Pandas, Seaborn, Matplotlib sind die wichtigsten für diese Aufgaben\n",
    "\n",
    "import pandas as pd\n",
    "import seaborn as sns\n",
    "from matplotlib import pyplot as plt"
   ]
  },
  {
   "cell_type": "code",
   "execution_count": 2,
   "id": "47a24830",
   "metadata": {},
   "outputs": [
    {
     "name": "stdout",
     "output_type": "stream",
     "text": [
      "Requirement already satisfied: pandas in c:\\users\\albin\\anaconda3\\lib\\site-packages (2.2.2)\n",
      "Requirement already satisfied: numpy>=1.26.0 in c:\\users\\albin\\anaconda3\\lib\\site-packages (from pandas) (1.26.4)\n",
      "Requirement already satisfied: python-dateutil>=2.8.2 in c:\\users\\albin\\anaconda3\\lib\\site-packages (from pandas) (2.9.0.post0)\n",
      "Requirement already satisfied: pytz>=2020.1 in c:\\users\\albin\\anaconda3\\lib\\site-packages (from pandas) (2024.1)\n",
      "Requirement already satisfied: tzdata>=2022.7 in c:\\users\\albin\\anaconda3\\lib\\site-packages (from pandas) (2023.3)\n",
      "Requirement already satisfied: six>=1.5 in c:\\users\\albin\\anaconda3\\lib\\site-packages (from python-dateutil>=2.8.2->pandas) (1.16.0)\n"
     ]
    }
   ],
   "source": [
    "import sys\n",
    "!{sys.executable} -m pip install pandas"
   ]
  },
  {
   "cell_type": "code",
   "execution_count": 3,
   "id": "ea68b7a9",
   "metadata": {},
   "outputs": [
    {
     "data": {
      "text/html": [
       "<div>\n",
       "<style scoped>\n",
       "    .dataframe tbody tr th:only-of-type {\n",
       "        vertical-align: middle;\n",
       "    }\n",
       "\n",
       "    .dataframe tbody tr th {\n",
       "        vertical-align: top;\n",
       "    }\n",
       "\n",
       "    .dataframe thead th {\n",
       "        text-align: right;\n",
       "    }\n",
       "</style>\n",
       "<table border=\"1\" class=\"dataframe\">\n",
       "  <thead>\n",
       "    <tr style=\"text-align: right;\">\n",
       "      <th></th>\n",
       "      <th>Gebiet</th>\n",
       "      <th>Code</th>\n",
       "      <th>Jahr</th>\n",
       "      <th>Fettleibigkeit</th>\n",
       "    </tr>\n",
       "  </thead>\n",
       "  <tbody>\n",
       "    <tr>\n",
       "      <th>0</th>\n",
       "      <td>Afghanistan</td>\n",
       "      <td>AFG</td>\n",
       "      <td>1975</td>\n",
       "      <td>0.4</td>\n",
       "    </tr>\n",
       "    <tr>\n",
       "      <th>1</th>\n",
       "      <td>Afghanistan</td>\n",
       "      <td>AFG</td>\n",
       "      <td>1976</td>\n",
       "      <td>0.4</td>\n",
       "    </tr>\n",
       "    <tr>\n",
       "      <th>2</th>\n",
       "      <td>Afghanistan</td>\n",
       "      <td>AFG</td>\n",
       "      <td>1977</td>\n",
       "      <td>0.5</td>\n",
       "    </tr>\n",
       "    <tr>\n",
       "      <th>3</th>\n",
       "      <td>Afghanistan</td>\n",
       "      <td>AFG</td>\n",
       "      <td>1978</td>\n",
       "      <td>0.5</td>\n",
       "    </tr>\n",
       "    <tr>\n",
       "      <th>4</th>\n",
       "      <td>Afghanistan</td>\n",
       "      <td>AFG</td>\n",
       "      <td>1979</td>\n",
       "      <td>0.5</td>\n",
       "    </tr>\n",
       "  </tbody>\n",
       "</table>\n",
       "</div>"
      ],
      "text/plain": [
       "        Gebiet Code  Jahr  Fettleibigkeit\n",
       "0  Afghanistan  AFG  1975             0.4\n",
       "1  Afghanistan  AFG  1976             0.4\n",
       "2  Afghanistan  AFG  1977             0.5\n",
       "3  Afghanistan  AFG  1978             0.5\n",
       "4  Afghanistan  AFG  1979             0.5"
      ]
     },
     "execution_count": 3,
     "metadata": {},
     "output_type": "execute_result"
    }
   ],
   "source": [
    "import pandas as pd \n",
    "df = pd.read_csv('share-of-adults-defined-as-obese.csv', skiprows=1, \n",
    "                 names=['Gebiet', 'Code', 'Jahr', 'Fettleibigkeit'])\n",
    "df.head()"
   ]
  },
  {
   "cell_type": "code",
   "execution_count": 4,
   "id": "56a38513",
   "metadata": {},
   "outputs": [
    {
     "data": {
      "text/html": [
       "<div>\n",
       "<style scoped>\n",
       "    .dataframe tbody tr th:only-of-type {\n",
       "        vertical-align: middle;\n",
       "    }\n",
       "\n",
       "    .dataframe tbody tr th {\n",
       "        vertical-align: top;\n",
       "    }\n",
       "\n",
       "    .dataframe thead th {\n",
       "        text-align: right;\n",
       "    }\n",
       "</style>\n",
       "<table border=\"1\" class=\"dataframe\">\n",
       "  <thead>\n",
       "    <tr style=\"text-align: right;\">\n",
       "      <th></th>\n",
       "      <th>Gebiet</th>\n",
       "      <th>Code</th>\n",
       "      <th>Jahr</th>\n",
       "      <th>Woman BMI</th>\n",
       "    </tr>\n",
       "  </thead>\n",
       "  <tbody>\n",
       "    <tr>\n",
       "      <th>0</th>\n",
       "      <td>Afghanistan</td>\n",
       "      <td>AFG</td>\n",
       "      <td>1975</td>\n",
       "      <td>18.844326</td>\n",
       "    </tr>\n",
       "    <tr>\n",
       "      <th>1</th>\n",
       "      <td>Afghanistan</td>\n",
       "      <td>AFG</td>\n",
       "      <td>1976</td>\n",
       "      <td>18.986417</td>\n",
       "    </tr>\n",
       "    <tr>\n",
       "      <th>2</th>\n",
       "      <td>Afghanistan</td>\n",
       "      <td>AFG</td>\n",
       "      <td>1977</td>\n",
       "      <td>19.128086</td>\n",
       "    </tr>\n",
       "    <tr>\n",
       "      <th>3</th>\n",
       "      <td>Afghanistan</td>\n",
       "      <td>AFG</td>\n",
       "      <td>1978</td>\n",
       "      <td>19.269247</td>\n",
       "    </tr>\n",
       "    <tr>\n",
       "      <th>4</th>\n",
       "      <td>Afghanistan</td>\n",
       "      <td>AFG</td>\n",
       "      <td>1979</td>\n",
       "      <td>19.409477</td>\n",
       "    </tr>\n",
       "  </tbody>\n",
       "</table>\n",
       "</div>"
      ],
      "text/plain": [
       "        Gebiet Code  Jahr  Woman BMI\n",
       "0  Afghanistan  AFG  1975  18.844326\n",
       "1  Afghanistan  AFG  1976  18.986417\n",
       "2  Afghanistan  AFG  1977  19.128086\n",
       "3  Afghanistan  AFG  1978  19.269247\n",
       "4  Afghanistan  AFG  1979  19.409477"
      ]
     },
     "execution_count": 4,
     "metadata": {},
     "output_type": "execute_result"
    }
   ],
   "source": [
    "import pandas as pd \n",
    "df2 =pd.read_csv('mean-body-mass-index-bmi-in-adult-women.csv', skiprows=1, \n",
    "                 names=['Gebiet', 'Code', 'Jahr', 'Woman BMI'])\n",
    "df2.head()"
   ]
  },
  {
   "cell_type": "code",
   "execution_count": 5,
   "id": "c5a685a4",
   "metadata": {},
   "outputs": [
    {
     "data": {
      "text/html": [
       "<div>\n",
       "<style scoped>\n",
       "    .dataframe tbody tr th:only-of-type {\n",
       "        vertical-align: middle;\n",
       "    }\n",
       "\n",
       "    .dataframe tbody tr th {\n",
       "        vertical-align: top;\n",
       "    }\n",
       "\n",
       "    .dataframe thead th {\n",
       "        text-align: right;\n",
       "    }\n",
       "</style>\n",
       "<table border=\"1\" class=\"dataframe\">\n",
       "  <thead>\n",
       "    <tr style=\"text-align: right;\">\n",
       "      <th></th>\n",
       "      <th>Gebiet</th>\n",
       "      <th>Code</th>\n",
       "      <th>Jahr</th>\n",
       "      <th>Man BMI</th>\n",
       "    </tr>\n",
       "  </thead>\n",
       "  <tbody>\n",
       "    <tr>\n",
       "      <th>0</th>\n",
       "      <td>Afghanistan</td>\n",
       "      <td>AFG</td>\n",
       "      <td>1975</td>\n",
       "      <td>18.999440</td>\n",
       "    </tr>\n",
       "    <tr>\n",
       "      <th>1</th>\n",
       "      <td>Afghanistan</td>\n",
       "      <td>AFG</td>\n",
       "      <td>1976</td>\n",
       "      <td>19.105518</td>\n",
       "    </tr>\n",
       "    <tr>\n",
       "      <th>2</th>\n",
       "      <td>Afghanistan</td>\n",
       "      <td>AFG</td>\n",
       "      <td>1977</td>\n",
       "      <td>19.212080</td>\n",
       "    </tr>\n",
       "    <tr>\n",
       "      <th>3</th>\n",
       "      <td>Afghanistan</td>\n",
       "      <td>AFG</td>\n",
       "      <td>1978</td>\n",
       "      <td>19.319053</td>\n",
       "    </tr>\n",
       "    <tr>\n",
       "      <th>4</th>\n",
       "      <td>Afghanistan</td>\n",
       "      <td>AFG</td>\n",
       "      <td>1979</td>\n",
       "      <td>19.425952</td>\n",
       "    </tr>\n",
       "  </tbody>\n",
       "</table>\n",
       "</div>"
      ],
      "text/plain": [
       "        Gebiet Code  Jahr    Man BMI\n",
       "0  Afghanistan  AFG  1975  18.999440\n",
       "1  Afghanistan  AFG  1976  19.105518\n",
       "2  Afghanistan  AFG  1977  19.212080\n",
       "3  Afghanistan  AFG  1978  19.319053\n",
       "4  Afghanistan  AFG  1979  19.425952"
      ]
     },
     "execution_count": 5,
     "metadata": {},
     "output_type": "execute_result"
    }
   ],
   "source": [
    "import pandas as pd \n",
    "df3 =pd.read_csv('mean-body-mass-index-bmi-in-adult-males.csv', skiprows=1, \n",
    "                 names=['Gebiet', 'Code', 'Jahr', 'Man BMI'])\n",
    "df3.head()"
   ]
  },
  {
   "cell_type": "markdown",
   "id": "25d1e798",
   "metadata": {},
   "source": [
    "## 2. Daten vorbereiten \n",
    "Der Datensatz enthält die folgenden Spalten:\n",
    "- Gebiet: Länder oder Regionen (z.B. AFG, AGO, ALB)\n",
    "- Jahr: Die Zeitspanne von 1975 bis 2016 (42 Jahre).\n",
    "- Fettleibigkeit: Der Anteil der Erwachsenen (in Prozent), die einen BMI von 30 oder höher haben.\n",
    "\n",
    "Nach dem Pivotieren wurde der Datensatz in das Wide-Format umgewandelt:\n",
    "- Die \"Gebiete\" bilden die Zeilen (Index).\n",
    "- Die \"Jahre\" bilden die Spalten (Columns).\n",
    "- Die Werte in der Tabelle sind die Fettleibigkeitsraten"
   ]
  },
  {
   "cell_type": "code",
   "execution_count": 6,
   "id": "f681a3bc",
   "metadata": {},
   "outputs": [
    {
     "data": {
      "text/html": [
       "<div>\n",
       "<style scoped>\n",
       "    .dataframe tbody tr th:only-of-type {\n",
       "        vertical-align: middle;\n",
       "    }\n",
       "\n",
       "    .dataframe tbody tr th {\n",
       "        vertical-align: top;\n",
       "    }\n",
       "\n",
       "    .dataframe thead th {\n",
       "        text-align: right;\n",
       "    }\n",
       "</style>\n",
       "<table border=\"1\" class=\"dataframe\">\n",
       "  <thead>\n",
       "    <tr style=\"text-align: right;\">\n",
       "      <th>Jahr</th>\n",
       "      <th>1975</th>\n",
       "      <th>1976</th>\n",
       "      <th>1977</th>\n",
       "      <th>1978</th>\n",
       "      <th>1979</th>\n",
       "      <th>1980</th>\n",
       "      <th>1981</th>\n",
       "      <th>1982</th>\n",
       "      <th>1983</th>\n",
       "      <th>1984</th>\n",
       "      <th>...</th>\n",
       "      <th>2007</th>\n",
       "      <th>2008</th>\n",
       "      <th>2009</th>\n",
       "      <th>2010</th>\n",
       "      <th>2011</th>\n",
       "      <th>2012</th>\n",
       "      <th>2013</th>\n",
       "      <th>2014</th>\n",
       "      <th>2015</th>\n",
       "      <th>2016</th>\n",
       "    </tr>\n",
       "    <tr>\n",
       "      <th>Gebiet</th>\n",
       "      <th></th>\n",
       "      <th></th>\n",
       "      <th></th>\n",
       "      <th></th>\n",
       "      <th></th>\n",
       "      <th></th>\n",
       "      <th></th>\n",
       "      <th></th>\n",
       "      <th></th>\n",
       "      <th></th>\n",
       "      <th></th>\n",
       "      <th></th>\n",
       "      <th></th>\n",
       "      <th></th>\n",
       "      <th></th>\n",
       "      <th></th>\n",
       "      <th></th>\n",
       "      <th></th>\n",
       "      <th></th>\n",
       "      <th></th>\n",
       "      <th></th>\n",
       "    </tr>\n",
       "  </thead>\n",
       "  <tbody>\n",
       "    <tr>\n",
       "      <th>Afghanistan</th>\n",
       "      <td>0.4</td>\n",
       "      <td>0.4</td>\n",
       "      <td>0.5</td>\n",
       "      <td>0.5</td>\n",
       "      <td>0.5</td>\n",
       "      <td>0.6</td>\n",
       "      <td>0.6</td>\n",
       "      <td>0.6</td>\n",
       "      <td>0.7</td>\n",
       "      <td>0.7</td>\n",
       "      <td>...</td>\n",
       "      <td>2.8</td>\n",
       "      <td>2.9</td>\n",
       "      <td>3.1</td>\n",
       "      <td>3.3</td>\n",
       "      <td>3.5</td>\n",
       "      <td>3.7</td>\n",
       "      <td>3.9</td>\n",
       "      <td>4.1</td>\n",
       "      <td>4.3</td>\n",
       "      <td>4.5</td>\n",
       "    </tr>\n",
       "    <tr>\n",
       "      <th>Africa (WHO)</th>\n",
       "      <td>1.7</td>\n",
       "      <td>1.8</td>\n",
       "      <td>1.9</td>\n",
       "      <td>1.9</td>\n",
       "      <td>2.0</td>\n",
       "      <td>2.1</td>\n",
       "      <td>2.2</td>\n",
       "      <td>2.3</td>\n",
       "      <td>2.4</td>\n",
       "      <td>2.5</td>\n",
       "      <td>...</td>\n",
       "      <td>6.6</td>\n",
       "      <td>6.8</td>\n",
       "      <td>7.1</td>\n",
       "      <td>7.4</td>\n",
       "      <td>7.6</td>\n",
       "      <td>7.9</td>\n",
       "      <td>8.2</td>\n",
       "      <td>8.5</td>\n",
       "      <td>8.8</td>\n",
       "      <td>9.1</td>\n",
       "    </tr>\n",
       "    <tr>\n",
       "      <th>Albania</th>\n",
       "      <td>5.7</td>\n",
       "      <td>5.8</td>\n",
       "      <td>6.0</td>\n",
       "      <td>6.1</td>\n",
       "      <td>6.3</td>\n",
       "      <td>6.4</td>\n",
       "      <td>6.6</td>\n",
       "      <td>6.8</td>\n",
       "      <td>7.0</td>\n",
       "      <td>7.2</td>\n",
       "      <td>...</td>\n",
       "      <td>16.9</td>\n",
       "      <td>17.5</td>\n",
       "      <td>18.1</td>\n",
       "      <td>18.7</td>\n",
       "      <td>19.3</td>\n",
       "      <td>19.9</td>\n",
       "      <td>20.5</td>\n",
       "      <td>21.1</td>\n",
       "      <td>21.7</td>\n",
       "      <td>22.3</td>\n",
       "    </tr>\n",
       "    <tr>\n",
       "      <th>Algeria</th>\n",
       "      <td>5.9</td>\n",
       "      <td>6.1</td>\n",
       "      <td>6.2</td>\n",
       "      <td>6.4</td>\n",
       "      <td>6.7</td>\n",
       "      <td>6.9</td>\n",
       "      <td>7.2</td>\n",
       "      <td>7.4</td>\n",
       "      <td>7.8</td>\n",
       "      <td>8.1</td>\n",
       "      <td>...</td>\n",
       "      <td>19.2</td>\n",
       "      <td>19.9</td>\n",
       "      <td>20.7</td>\n",
       "      <td>21.4</td>\n",
       "      <td>22.2</td>\n",
       "      <td>23.1</td>\n",
       "      <td>23.9</td>\n",
       "      <td>24.8</td>\n",
       "      <td>25.7</td>\n",
       "      <td>26.6</td>\n",
       "    </tr>\n",
       "    <tr>\n",
       "      <th>Americas (WHO)</th>\n",
       "      <td>9.0</td>\n",
       "      <td>9.3</td>\n",
       "      <td>9.5</td>\n",
       "      <td>9.8</td>\n",
       "      <td>10.1</td>\n",
       "      <td>10.4</td>\n",
       "      <td>10.7</td>\n",
       "      <td>11.1</td>\n",
       "      <td>11.4</td>\n",
       "      <td>11.8</td>\n",
       "      <td>...</td>\n",
       "      <td>23.8</td>\n",
       "      <td>24.4</td>\n",
       "      <td>25.0</td>\n",
       "      <td>25.5</td>\n",
       "      <td>26.1</td>\n",
       "      <td>26.7</td>\n",
       "      <td>27.3</td>\n",
       "      <td>27.8</td>\n",
       "      <td>28.4</td>\n",
       "      <td>29.0</td>\n",
       "    </tr>\n",
       "  </tbody>\n",
       "</table>\n",
       "<p>5 rows × 42 columns</p>\n",
       "</div>"
      ],
      "text/plain": [
       "Jahr            1975  1976  1977  1978  1979  1980  1981  1982  1983  1984  \\\n",
       "Gebiet                                                                       \n",
       "Afghanistan      0.4   0.4   0.5   0.5   0.5   0.6   0.6   0.6   0.7   0.7   \n",
       "Africa (WHO)     1.7   1.8   1.9   1.9   2.0   2.1   2.2   2.3   2.4   2.5   \n",
       "Albania          5.7   5.8   6.0   6.1   6.3   6.4   6.6   6.8   7.0   7.2   \n",
       "Algeria          5.9   6.1   6.2   6.4   6.7   6.9   7.2   7.4   7.8   8.1   \n",
       "Americas (WHO)   9.0   9.3   9.5   9.8  10.1  10.4  10.7  11.1  11.4  11.8   \n",
       "\n",
       "Jahr            ...  2007  2008  2009  2010  2011  2012  2013  2014  2015  \\\n",
       "Gebiet          ...                                                         \n",
       "Afghanistan     ...   2.8   2.9   3.1   3.3   3.5   3.7   3.9   4.1   4.3   \n",
       "Africa (WHO)    ...   6.6   6.8   7.1   7.4   7.6   7.9   8.2   8.5   8.8   \n",
       "Albania         ...  16.9  17.5  18.1  18.7  19.3  19.9  20.5  21.1  21.7   \n",
       "Algeria         ...  19.2  19.9  20.7  21.4  22.2  23.1  23.9  24.8  25.7   \n",
       "Americas (WHO)  ...  23.8  24.4  25.0  25.5  26.1  26.7  27.3  27.8  28.4   \n",
       "\n",
       "Jahr            2016  \n",
       "Gebiet                \n",
       "Afghanistan      4.5  \n",
       "Africa (WHO)     9.1  \n",
       "Albania         22.3  \n",
       "Algeria         26.6  \n",
       "Americas (WHO)  29.0  \n",
       "\n",
       "[5 rows x 42 columns]"
      ]
     },
     "execution_count": 6,
     "metadata": {},
     "output_type": "execute_result"
    }
   ],
   "source": [
    "df_pivot = df.pivot(index='Gebiet', columns='Jahr', values='Fettleibigkeit')\n",
    "df_pivot.head()"
   ]
  },
  {
   "cell_type": "code",
   "execution_count": 7,
   "id": "74f4c81b",
   "metadata": {},
   "outputs": [
    {
     "data": {
      "text/html": [
       "<div>\n",
       "<style scoped>\n",
       "    .dataframe tbody tr th:only-of-type {\n",
       "        vertical-align: middle;\n",
       "    }\n",
       "\n",
       "    .dataframe tbody tr th {\n",
       "        vertical-align: top;\n",
       "    }\n",
       "\n",
       "    .dataframe thead th {\n",
       "        text-align: right;\n",
       "    }\n",
       "</style>\n",
       "<table border=\"1\" class=\"dataframe\">\n",
       "  <thead>\n",
       "    <tr style=\"text-align: right;\">\n",
       "      <th>Jahr</th>\n",
       "      <th>1975</th>\n",
       "      <th>1976</th>\n",
       "      <th>1977</th>\n",
       "      <th>1978</th>\n",
       "      <th>1979</th>\n",
       "      <th>1980</th>\n",
       "      <th>1981</th>\n",
       "      <th>1982</th>\n",
       "      <th>1983</th>\n",
       "      <th>1984</th>\n",
       "      <th>...</th>\n",
       "      <th>2007</th>\n",
       "      <th>2008</th>\n",
       "      <th>2009</th>\n",
       "      <th>2010</th>\n",
       "      <th>2011</th>\n",
       "      <th>2012</th>\n",
       "      <th>2013</th>\n",
       "      <th>2014</th>\n",
       "      <th>2015</th>\n",
       "      <th>2016</th>\n",
       "    </tr>\n",
       "    <tr>\n",
       "      <th>Gebiet</th>\n",
       "      <th></th>\n",
       "      <th></th>\n",
       "      <th></th>\n",
       "      <th></th>\n",
       "      <th></th>\n",
       "      <th></th>\n",
       "      <th></th>\n",
       "      <th></th>\n",
       "      <th></th>\n",
       "      <th></th>\n",
       "      <th></th>\n",
       "      <th></th>\n",
       "      <th></th>\n",
       "      <th></th>\n",
       "      <th></th>\n",
       "      <th></th>\n",
       "      <th></th>\n",
       "      <th></th>\n",
       "      <th></th>\n",
       "      <th></th>\n",
       "      <th></th>\n",
       "    </tr>\n",
       "  </thead>\n",
       "  <tbody>\n",
       "    <tr>\n",
       "      <th>Afghanistan</th>\n",
       "      <td>18.844326</td>\n",
       "      <td>18.986417</td>\n",
       "      <td>19.128086</td>\n",
       "      <td>19.269247</td>\n",
       "      <td>19.409477</td>\n",
       "      <td>19.549231</td>\n",
       "      <td>19.687040</td>\n",
       "      <td>19.823152</td>\n",
       "      <td>19.957774</td>\n",
       "      <td>20.091160</td>\n",
       "      <td>...</td>\n",
       "      <td>23.083310</td>\n",
       "      <td>23.211125</td>\n",
       "      <td>23.339148</td>\n",
       "      <td>23.466950</td>\n",
       "      <td>23.594785</td>\n",
       "      <td>23.722965</td>\n",
       "      <td>23.851327</td>\n",
       "      <td>23.979135</td>\n",
       "      <td>24.106899</td>\n",
       "      <td>24.234135</td>\n",
       "    </tr>\n",
       "    <tr>\n",
       "      <th>Albania</th>\n",
       "      <td>23.890636</td>\n",
       "      <td>23.938773</td>\n",
       "      <td>23.987401</td>\n",
       "      <td>24.036154</td>\n",
       "      <td>24.084969</td>\n",
       "      <td>24.133737</td>\n",
       "      <td>24.182737</td>\n",
       "      <td>24.232111</td>\n",
       "      <td>24.281292</td>\n",
       "      <td>24.330109</td>\n",
       "      <td>...</td>\n",
       "      <td>25.739934</td>\n",
       "      <td>25.830620</td>\n",
       "      <td>25.920286</td>\n",
       "      <td>26.008601</td>\n",
       "      <td>26.095482</td>\n",
       "      <td>26.181051</td>\n",
       "      <td>26.265137</td>\n",
       "      <td>26.347663</td>\n",
       "      <td>26.428652</td>\n",
       "      <td>26.507512</td>\n",
       "    </tr>\n",
       "    <tr>\n",
       "      <th>Algeria</th>\n",
       "      <td>22.538677</td>\n",
       "      <td>22.639106</td>\n",
       "      <td>22.742890</td>\n",
       "      <td>22.849269</td>\n",
       "      <td>22.957815</td>\n",
       "      <td>23.068339</td>\n",
       "      <td>23.182681</td>\n",
       "      <td>23.300166</td>\n",
       "      <td>23.420056</td>\n",
       "      <td>23.540961</td>\n",
       "      <td>...</td>\n",
       "      <td>25.885735</td>\n",
       "      <td>25.962253</td>\n",
       "      <td>26.039461</td>\n",
       "      <td>26.116206</td>\n",
       "      <td>26.191877</td>\n",
       "      <td>26.266865</td>\n",
       "      <td>26.341576</td>\n",
       "      <td>26.415817</td>\n",
       "      <td>26.489409</td>\n",
       "      <td>26.561166</td>\n",
       "    </tr>\n",
       "    <tr>\n",
       "      <th>American Samoa</th>\n",
       "      <td>32.258886</td>\n",
       "      <td>32.403470</td>\n",
       "      <td>32.547337</td>\n",
       "      <td>32.689690</td>\n",
       "      <td>32.830923</td>\n",
       "      <td>32.971094</td>\n",
       "      <td>33.113047</td>\n",
       "      <td>33.255976</td>\n",
       "      <td>33.398543</td>\n",
       "      <td>33.539776</td>\n",
       "      <td>...</td>\n",
       "      <td>35.216997</td>\n",
       "      <td>35.209839</td>\n",
       "      <td>35.201827</td>\n",
       "      <td>35.193207</td>\n",
       "      <td>35.184742</td>\n",
       "      <td>35.176889</td>\n",
       "      <td>35.169352</td>\n",
       "      <td>35.162019</td>\n",
       "      <td>35.155108</td>\n",
       "      <td>35.148865</td>\n",
       "    </tr>\n",
       "    <tr>\n",
       "      <th>Andorra</th>\n",
       "      <td>25.886079</td>\n",
       "      <td>25.974234</td>\n",
       "      <td>26.052990</td>\n",
       "      <td>26.124174</td>\n",
       "      <td>26.189526</td>\n",
       "      <td>26.250746</td>\n",
       "      <td>26.305611</td>\n",
       "      <td>26.355479</td>\n",
       "      <td>26.401501</td>\n",
       "      <td>26.444075</td>\n",
       "      <td>...</td>\n",
       "      <td>26.592701</td>\n",
       "      <td>26.566990</td>\n",
       "      <td>26.537845</td>\n",
       "      <td>26.504479</td>\n",
       "      <td>26.467753</td>\n",
       "      <td>26.428973</td>\n",
       "      <td>26.389177</td>\n",
       "      <td>26.349161</td>\n",
       "      <td>26.309603</td>\n",
       "      <td>26.271661</td>\n",
       "    </tr>\n",
       "  </tbody>\n",
       "</table>\n",
       "<p>5 rows × 42 columns</p>\n",
       "</div>"
      ],
      "text/plain": [
       "Jahr                 1975       1976       1977       1978       1979  \\\n",
       "Gebiet                                                                  \n",
       "Afghanistan     18.844326  18.986417  19.128086  19.269247  19.409477   \n",
       "Albania         23.890636  23.938773  23.987401  24.036154  24.084969   \n",
       "Algeria         22.538677  22.639106  22.742890  22.849269  22.957815   \n",
       "American Samoa  32.258886  32.403470  32.547337  32.689690  32.830923   \n",
       "Andorra         25.886079  25.974234  26.052990  26.124174  26.189526   \n",
       "\n",
       "Jahr                 1980       1981       1982       1983       1984  ...  \\\n",
       "Gebiet                                                                 ...   \n",
       "Afghanistan     19.549231  19.687040  19.823152  19.957774  20.091160  ...   \n",
       "Albania         24.133737  24.182737  24.232111  24.281292  24.330109  ...   \n",
       "Algeria         23.068339  23.182681  23.300166  23.420056  23.540961  ...   \n",
       "American Samoa  32.971094  33.113047  33.255976  33.398543  33.539776  ...   \n",
       "Andorra         26.250746  26.305611  26.355479  26.401501  26.444075  ...   \n",
       "\n",
       "Jahr                 2007       2008       2009       2010       2011  \\\n",
       "Gebiet                                                                  \n",
       "Afghanistan     23.083310  23.211125  23.339148  23.466950  23.594785   \n",
       "Albania         25.739934  25.830620  25.920286  26.008601  26.095482   \n",
       "Algeria         25.885735  25.962253  26.039461  26.116206  26.191877   \n",
       "American Samoa  35.216997  35.209839  35.201827  35.193207  35.184742   \n",
       "Andorra         26.592701  26.566990  26.537845  26.504479  26.467753   \n",
       "\n",
       "Jahr                 2012       2013       2014       2015       2016  \n",
       "Gebiet                                                                 \n",
       "Afghanistan     23.722965  23.851327  23.979135  24.106899  24.234135  \n",
       "Albania         26.181051  26.265137  26.347663  26.428652  26.507512  \n",
       "Algeria         26.266865  26.341576  26.415817  26.489409  26.561166  \n",
       "American Samoa  35.176889  35.169352  35.162019  35.155108  35.148865  \n",
       "Andorra         26.428973  26.389177  26.349161  26.309603  26.271661  \n",
       "\n",
       "[5 rows x 42 columns]"
      ]
     },
     "execution_count": 7,
     "metadata": {},
     "output_type": "execute_result"
    }
   ],
   "source": [
    "df2_pivot = df2.pivot(index='Gebiet', columns='Jahr', values='Woman BMI')\n",
    "df2_pivot.head()"
   ]
  },
  {
   "cell_type": "code",
   "execution_count": 8,
   "id": "5efb4673",
   "metadata": {},
   "outputs": [
    {
     "data": {
      "text/html": [
       "<div>\n",
       "<style scoped>\n",
       "    .dataframe tbody tr th:only-of-type {\n",
       "        vertical-align: middle;\n",
       "    }\n",
       "\n",
       "    .dataframe tbody tr th {\n",
       "        vertical-align: top;\n",
       "    }\n",
       "\n",
       "    .dataframe thead th {\n",
       "        text-align: right;\n",
       "    }\n",
       "</style>\n",
       "<table border=\"1\" class=\"dataframe\">\n",
       "  <thead>\n",
       "    <tr style=\"text-align: right;\">\n",
       "      <th>Jahr</th>\n",
       "      <th>1975</th>\n",
       "      <th>1976</th>\n",
       "      <th>1977</th>\n",
       "      <th>1978</th>\n",
       "      <th>1979</th>\n",
       "      <th>1980</th>\n",
       "      <th>1981</th>\n",
       "      <th>1982</th>\n",
       "      <th>1983</th>\n",
       "      <th>1984</th>\n",
       "      <th>...</th>\n",
       "      <th>2007</th>\n",
       "      <th>2008</th>\n",
       "      <th>2009</th>\n",
       "      <th>2010</th>\n",
       "      <th>2011</th>\n",
       "      <th>2012</th>\n",
       "      <th>2013</th>\n",
       "      <th>2014</th>\n",
       "      <th>2015</th>\n",
       "      <th>2016</th>\n",
       "    </tr>\n",
       "    <tr>\n",
       "      <th>Gebiet</th>\n",
       "      <th></th>\n",
       "      <th></th>\n",
       "      <th></th>\n",
       "      <th></th>\n",
       "      <th></th>\n",
       "      <th></th>\n",
       "      <th></th>\n",
       "      <th></th>\n",
       "      <th></th>\n",
       "      <th></th>\n",
       "      <th></th>\n",
       "      <th></th>\n",
       "      <th></th>\n",
       "      <th></th>\n",
       "      <th></th>\n",
       "      <th></th>\n",
       "      <th></th>\n",
       "      <th></th>\n",
       "      <th></th>\n",
       "      <th></th>\n",
       "      <th></th>\n",
       "    </tr>\n",
       "  </thead>\n",
       "  <tbody>\n",
       "    <tr>\n",
       "      <th>Afghanistan</th>\n",
       "      <td>18.999440</td>\n",
       "      <td>19.105518</td>\n",
       "      <td>19.212080</td>\n",
       "      <td>19.319053</td>\n",
       "      <td>19.425952</td>\n",
       "      <td>19.532923</td>\n",
       "      <td>19.637998</td>\n",
       "      <td>19.741670</td>\n",
       "      <td>19.843253</td>\n",
       "      <td>19.943436</td>\n",
       "      <td>...</td>\n",
       "      <td>21.947270</td>\n",
       "      <td>22.024802</td>\n",
       "      <td>22.102958</td>\n",
       "      <td>22.181569</td>\n",
       "      <td>22.261850</td>\n",
       "      <td>22.343871</td>\n",
       "      <td>22.427785</td>\n",
       "      <td>22.512386</td>\n",
       "      <td>22.597279</td>\n",
       "      <td>22.682456</td>\n",
       "    </tr>\n",
       "    <tr>\n",
       "      <th>Albania</th>\n",
       "      <td>23.875925</td>\n",
       "      <td>23.941722</td>\n",
       "      <td>24.008033</td>\n",
       "      <td>24.074598</td>\n",
       "      <td>24.141122</td>\n",
       "      <td>24.207604</td>\n",
       "      <td>24.274263</td>\n",
       "      <td>24.340757</td>\n",
       "      <td>24.406364</td>\n",
       "      <td>24.471048</td>\n",
       "      <td>...</td>\n",
       "      <td>26.190414</td>\n",
       "      <td>26.296948</td>\n",
       "      <td>26.403417</td>\n",
       "      <td>26.509911</td>\n",
       "      <td>26.617041</td>\n",
       "      <td>26.725178</td>\n",
       "      <td>26.835242</td>\n",
       "      <td>26.947170</td>\n",
       "      <td>27.060838</td>\n",
       "      <td>27.174471</td>\n",
       "    </tr>\n",
       "    <tr>\n",
       "      <th>Algeria</th>\n",
       "      <td>21.316564</td>\n",
       "      <td>21.393173</td>\n",
       "      <td>21.471962</td>\n",
       "      <td>21.552533</td>\n",
       "      <td>21.635379</td>\n",
       "      <td>21.720052</td>\n",
       "      <td>21.807475</td>\n",
       "      <td>21.897452</td>\n",
       "      <td>21.989065</td>\n",
       "      <td>22.082530</td>\n",
       "      <td>...</td>\n",
       "      <td>24.071011</td>\n",
       "      <td>24.153304</td>\n",
       "      <td>24.239442</td>\n",
       "      <td>24.327934</td>\n",
       "      <td>24.417648</td>\n",
       "      <td>24.507803</td>\n",
       "      <td>24.597742</td>\n",
       "      <td>24.687904</td>\n",
       "      <td>24.777254</td>\n",
       "      <td>24.865386</td>\n",
       "    </tr>\n",
       "    <tr>\n",
       "      <th>American Samoa</th>\n",
       "      <td>29.027740</td>\n",
       "      <td>29.308375</td>\n",
       "      <td>29.588662</td>\n",
       "      <td>29.869139</td>\n",
       "      <td>30.148287</td>\n",
       "      <td>30.424760</td>\n",
       "      <td>30.699517</td>\n",
       "      <td>30.971502</td>\n",
       "      <td>31.238396</td>\n",
       "      <td>31.498266</td>\n",
       "      <td>...</td>\n",
       "      <td>33.356398</td>\n",
       "      <td>33.320390</td>\n",
       "      <td>33.285217</td>\n",
       "      <td>33.250466</td>\n",
       "      <td>33.217207</td>\n",
       "      <td>33.185128</td>\n",
       "      <td>33.154075</td>\n",
       "      <td>33.124245</td>\n",
       "      <td>33.095257</td>\n",
       "      <td>33.066721</td>\n",
       "    </tr>\n",
       "    <tr>\n",
       "      <th>Andorra</th>\n",
       "      <td>25.124438</td>\n",
       "      <td>25.229178</td>\n",
       "      <td>25.328827</td>\n",
       "      <td>25.424956</td>\n",
       "      <td>25.518640</td>\n",
       "      <td>25.610347</td>\n",
       "      <td>25.698717</td>\n",
       "      <td>25.784539</td>\n",
       "      <td>25.868009</td>\n",
       "      <td>25.949672</td>\n",
       "      <td>...</td>\n",
       "      <td>27.383837</td>\n",
       "      <td>27.414716</td>\n",
       "      <td>27.437915</td>\n",
       "      <td>27.453550</td>\n",
       "      <td>27.462931</td>\n",
       "      <td>27.467571</td>\n",
       "      <td>27.469886</td>\n",
       "      <td>27.472020</td>\n",
       "      <td>27.474622</td>\n",
       "      <td>27.478395</td>\n",
       "    </tr>\n",
       "  </tbody>\n",
       "</table>\n",
       "<p>5 rows × 42 columns</p>\n",
       "</div>"
      ],
      "text/plain": [
       "Jahr                 1975       1976       1977       1978       1979  \\\n",
       "Gebiet                                                                  \n",
       "Afghanistan     18.999440  19.105518  19.212080  19.319053  19.425952   \n",
       "Albania         23.875925  23.941722  24.008033  24.074598  24.141122   \n",
       "Algeria         21.316564  21.393173  21.471962  21.552533  21.635379   \n",
       "American Samoa  29.027740  29.308375  29.588662  29.869139  30.148287   \n",
       "Andorra         25.124438  25.229178  25.328827  25.424956  25.518640   \n",
       "\n",
       "Jahr                 1980       1981       1982       1983       1984  ...  \\\n",
       "Gebiet                                                                 ...   \n",
       "Afghanistan     19.532923  19.637998  19.741670  19.843253  19.943436  ...   \n",
       "Albania         24.207604  24.274263  24.340757  24.406364  24.471048  ...   \n",
       "Algeria         21.720052  21.807475  21.897452  21.989065  22.082530  ...   \n",
       "American Samoa  30.424760  30.699517  30.971502  31.238396  31.498266  ...   \n",
       "Andorra         25.610347  25.698717  25.784539  25.868009  25.949672  ...   \n",
       "\n",
       "Jahr                 2007       2008       2009       2010       2011  \\\n",
       "Gebiet                                                                  \n",
       "Afghanistan     21.947270  22.024802  22.102958  22.181569  22.261850   \n",
       "Albania         26.190414  26.296948  26.403417  26.509911  26.617041   \n",
       "Algeria         24.071011  24.153304  24.239442  24.327934  24.417648   \n",
       "American Samoa  33.356398  33.320390  33.285217  33.250466  33.217207   \n",
       "Andorra         27.383837  27.414716  27.437915  27.453550  27.462931   \n",
       "\n",
       "Jahr                 2012       2013       2014       2015       2016  \n",
       "Gebiet                                                                 \n",
       "Afghanistan     22.343871  22.427785  22.512386  22.597279  22.682456  \n",
       "Albania         26.725178  26.835242  26.947170  27.060838  27.174471  \n",
       "Algeria         24.507803  24.597742  24.687904  24.777254  24.865386  \n",
       "American Samoa  33.185128  33.154075  33.124245  33.095257  33.066721  \n",
       "Andorra         27.467571  27.469886  27.472020  27.474622  27.478395  \n",
       "\n",
       "[5 rows x 42 columns]"
      ]
     },
     "execution_count": 8,
     "metadata": {},
     "output_type": "execute_result"
    }
   ],
   "source": [
    "df3_pivot = df3.pivot(index='Gebiet', columns='Jahr', values='Man BMI')\n",
    "df3_pivot.head()"
   ]
  },
  {
   "cell_type": "code",
   "execution_count": 9,
   "id": "57168010",
   "metadata": {},
   "outputs": [
    {
     "name": "stdout",
     "output_type": "stream",
     "text": [
      "           Gebiet  Jahr  Fettleibigkeit\n",
      "0     Afghanistan  1975             0.4\n",
      "1    Africa (WHO)  1975             1.7\n",
      "2         Albania  1975             5.7\n",
      "3         Algeria  1975             5.9\n",
      "4  Americas (WHO)  1975             9.0\n"
     ]
    }
   ],
   "source": [
    "# Wide-Format zurück ins Long-Format\n",
    "df_long = df_pivot.reset_index().melt(id_vars='Gebiet', var_name='Jahr', value_name='Fettleibigkeit')\n",
    "print(df_long.head())\n"
   ]
  },
  {
   "cell_type": "code",
   "execution_count": 10,
   "id": "c6128b67",
   "metadata": {},
   "outputs": [
    {
     "name": "stdout",
     "output_type": "stream",
     "text": [
      "           Gebiet  Jahr  Woman BMI\n",
      "0     Afghanistan  1975  18.844326\n",
      "1         Albania  1975  23.890636\n",
      "2         Algeria  1975  22.538677\n",
      "3  American Samoa  1975  32.258886\n",
      "4         Andorra  1975  25.886079\n"
     ]
    }
   ],
   "source": [
    "df2_long = df2_pivot.reset_index().melt(id_vars='Gebiet', var_name='Jahr', value_name='Woman BMI')\n",
    "print(df2_long.head())\n"
   ]
  },
  {
   "cell_type": "code",
   "execution_count": 11,
   "id": "85ba821a",
   "metadata": {},
   "outputs": [
    {
     "name": "stdout",
     "output_type": "stream",
     "text": [
      "           Gebiet  Jahr    Man BMI\n",
      "0     Afghanistan  1975  18.999440\n",
      "1         Albania  1975  23.875925\n",
      "2         Algeria  1975  21.316564\n",
      "3  American Samoa  1975  29.027740\n",
      "4         Andorra  1975  25.124438\n"
     ]
    }
   ],
   "source": [
    "df3_long = df3_pivot.reset_index().melt(id_vars='Gebiet', var_name='Jahr', value_name='Man BMI')\n",
    "print(df3_long.head())\n"
   ]
  },
  {
   "cell_type": "code",
   "execution_count": 12,
   "id": "300dfdaf",
   "metadata": {},
   "outputs": [
    {
     "name": "stdout",
     "output_type": "stream",
     "text": [
      "Jahr            1975  1976  1977  1978  1979  1980  1981  1982  1983  1984  \\\n",
      "Gebiet                                                                       \n",
      "Afghanistan      0.4   0.4   0.5   0.5   0.5   0.6   0.6   0.6   0.7   0.7   \n",
      "Africa (WHO)     1.7   1.8   1.9   1.9   2.0   2.1   2.2   2.3   2.4   2.5   \n",
      "Albania          5.7   5.8   6.0   6.1   6.3   6.4   6.6   6.8   7.0   7.2   \n",
      "Algeria          5.9   6.1   6.2   6.4   6.7   6.9   7.2   7.4   7.8   8.1   \n",
      "Americas (WHO)   9.0   9.3   9.5   9.8  10.1  10.4  10.7  11.1  11.4  11.8   \n",
      "\n",
      "Jahr            ...  2007  2008  2009  2010  2011  2012  2013  2014  2015  \\\n",
      "Gebiet          ...                                                         \n",
      "Afghanistan     ...   2.8   2.9   3.1   3.3   3.5   3.7   3.9   4.1   4.3   \n",
      "Africa (WHO)    ...   6.6   6.8   7.1   7.4   7.6   7.9   8.2   8.5   8.8   \n",
      "Albania         ...  16.9  17.5  18.1  18.7  19.3  19.9  20.5  21.1  21.7   \n",
      "Algeria         ...  19.2  19.9  20.7  21.4  22.2  23.1  23.9  24.8  25.7   \n",
      "Americas (WHO)  ...  23.8  24.4  25.0  25.5  26.1  26.7  27.3  27.8  28.4   \n",
      "\n",
      "Jahr            2016  \n",
      "Gebiet                \n",
      "Afghanistan      4.5  \n",
      "Africa (WHO)     9.1  \n",
      "Albania         22.3  \n",
      "Algeria         26.6  \n",
      "Americas (WHO)  29.0  \n",
      "\n",
      "[5 rows x 42 columns]\n"
     ]
    }
   ],
   "source": [
    "df_pivot_table = df.pivot_table(index='Gebiet', columns='Jahr', values='Fettleibigkeit', aggfunc='mean')\n",
    "print(df_pivot_table.head())\n"
   ]
  },
  {
   "cell_type": "code",
   "execution_count": 13,
   "id": "e2f02f11",
   "metadata": {},
   "outputs": [
    {
     "name": "stdout",
     "output_type": "stream",
     "text": [
      "Jahr                 1975       1976       1977       1978       1979  \\\n",
      "Gebiet                                                                  \n",
      "Afghanistan     18.844326  18.986417  19.128086  19.269247  19.409477   \n",
      "Albania         23.890636  23.938773  23.987401  24.036154  24.084969   \n",
      "Algeria         22.538677  22.639106  22.742890  22.849269  22.957815   \n",
      "American Samoa  32.258886  32.403470  32.547337  32.689690  32.830923   \n",
      "Andorra         25.886079  25.974234  26.052990  26.124174  26.189526   \n",
      "\n",
      "Jahr                 1980       1981       1982       1983       1984  ...  \\\n",
      "Gebiet                                                                 ...   \n",
      "Afghanistan     19.549231  19.687040  19.823152  19.957774  20.091160  ...   \n",
      "Albania         24.133737  24.182737  24.232111  24.281292  24.330109  ...   \n",
      "Algeria         23.068339  23.182681  23.300166  23.420056  23.540961  ...   \n",
      "American Samoa  32.971094  33.113047  33.255976  33.398543  33.539776  ...   \n",
      "Andorra         26.250746  26.305611  26.355479  26.401501  26.444075  ...   \n",
      "\n",
      "Jahr                 2007       2008       2009       2010       2011  \\\n",
      "Gebiet                                                                  \n",
      "Afghanistan     23.083310  23.211125  23.339148  23.466950  23.594785   \n",
      "Albania         25.739934  25.830620  25.920286  26.008601  26.095482   \n",
      "Algeria         25.885735  25.962253  26.039461  26.116206  26.191877   \n",
      "American Samoa  35.216997  35.209839  35.201827  35.193207  35.184742   \n",
      "Andorra         26.592701  26.566990  26.537845  26.504479  26.467753   \n",
      "\n",
      "Jahr                 2012       2013       2014       2015       2016  \n",
      "Gebiet                                                                 \n",
      "Afghanistan     23.722965  23.851327  23.979135  24.106899  24.234135  \n",
      "Albania         26.181051  26.265137  26.347663  26.428652  26.507512  \n",
      "Algeria         26.266865  26.341576  26.415817  26.489409  26.561166  \n",
      "American Samoa  35.176889  35.169352  35.162019  35.155108  35.148865  \n",
      "Andorra         26.428973  26.389177  26.349161  26.309603  26.271661  \n",
      "\n",
      "[5 rows x 42 columns]\n"
     ]
    }
   ],
   "source": [
    "df2_pivot_table = df2.pivot_table(index='Gebiet', columns='Jahr', values='Woman BMI', aggfunc='mean')\n",
    "print(df2_pivot_table.head())"
   ]
  },
  {
   "cell_type": "code",
   "execution_count": 14,
   "id": "a6a09604",
   "metadata": {},
   "outputs": [
    {
     "name": "stdout",
     "output_type": "stream",
     "text": [
      "Jahr                 1975       1976       1977       1978       1979  \\\n",
      "Gebiet                                                                  \n",
      "Afghanistan     18.999440  19.105518  19.212080  19.319053  19.425952   \n",
      "Albania         23.875925  23.941722  24.008033  24.074598  24.141122   \n",
      "Algeria         21.316564  21.393173  21.471962  21.552533  21.635379   \n",
      "American Samoa  29.027740  29.308375  29.588662  29.869139  30.148287   \n",
      "Andorra         25.124438  25.229178  25.328827  25.424956  25.518640   \n",
      "\n",
      "Jahr                 1980       1981       1982       1983       1984  ...  \\\n",
      "Gebiet                                                                 ...   \n",
      "Afghanistan     19.532923  19.637998  19.741670  19.843253  19.943436  ...   \n",
      "Albania         24.207604  24.274263  24.340757  24.406364  24.471048  ...   \n",
      "Algeria         21.720052  21.807475  21.897452  21.989065  22.082530  ...   \n",
      "American Samoa  30.424760  30.699517  30.971502  31.238396  31.498266  ...   \n",
      "Andorra         25.610347  25.698717  25.784539  25.868009  25.949672  ...   \n",
      "\n",
      "Jahr                 2007       2008       2009       2010       2011  \\\n",
      "Gebiet                                                                  \n",
      "Afghanistan     21.947270  22.024802  22.102958  22.181569  22.261850   \n",
      "Albania         26.190414  26.296948  26.403417  26.509911  26.617041   \n",
      "Algeria         24.071011  24.153304  24.239442  24.327934  24.417648   \n",
      "American Samoa  33.356398  33.320390  33.285217  33.250466  33.217207   \n",
      "Andorra         27.383837  27.414716  27.437915  27.453550  27.462931   \n",
      "\n",
      "Jahr                 2012       2013       2014       2015       2016  \n",
      "Gebiet                                                                 \n",
      "Afghanistan     22.343871  22.427785  22.512386  22.597279  22.682456  \n",
      "Albania         26.725178  26.835242  26.947170  27.060838  27.174471  \n",
      "Algeria         24.507803  24.597742  24.687904  24.777254  24.865386  \n",
      "American Samoa  33.185128  33.154075  33.124245  33.095257  33.066721  \n",
      "Andorra         27.467571  27.469886  27.472020  27.474622  27.478395  \n",
      "\n",
      "[5 rows x 42 columns]\n"
     ]
    }
   ],
   "source": [
    "df3_pivot_table = df3.pivot_table(index='Gebiet', columns='Jahr', values='Man BMI', aggfunc='mean')\n",
    "print(df3_pivot_table.head())"
   ]
  },
  {
   "cell_type": "markdown",
   "id": "28195847",
   "metadata": {},
   "source": [
    "## 3. Statistik der Rohdaten (Analyse im Long-Format)\n",
    "1. Variablenanalyse\n",
    "- Die Variable \"Fettleibigkeit\" ist kontinuierlich, da sie Dezimalwerte enthält.\n",
    "- Die Variablen \"Jahr\" und \"Code/Gebiet\" sind diskret mit einer festen Anzahl von Kategorien:\n",
    "   - Jahr: 42 einzigartige Werte (1975–2016)\n",
    "   - Gebiet: 191 verschiedene Länder/Regionen\n",
    "2. Anzahl der Datenpunkte\n",
    "- Für jede Region (Gebiet) und jedes Jahr sind 197 Datenpunkte vorhanden.\n",
    "- Es gibt keine fehlenden Werte in den Spalten \"Jahr\" und \"Fettleibigkeit\". In der Spalte \"Code\" sind einige Werte fehlend, dies hat jedoch die Analyse nicht beeinträchtigt.\n",
    "3. Verteilung der Variablen\n",
    "- Das Histogramm der Fettleibigkeitswerte zeigt eine rechtsschiefe Verteilung:\n",
    "   - Der Mittelwert liegt bei 11.87%.\n",
    "   - Der Median beträgt 10.10%, was zeigt, dass die Mehrheit der Länder geringere Fettleibigkeitswerte aufweist.\n",
    "   - Regionen mit besonders hohen Durchschnittswerten (z.B. Pazifikstaaten) ziehen den Mittelwert nach oben.\n",
    "4. Datenpunkte pro Klasse\n",
    "- Jede Region verfügt über 42 Datenpunkte (ein Punkt pro Jahr zwischen 1975 und 2016).\n",
    "- Die Daten sind gleichmässig verteilt, was eine zuverlässige Analyse der zeitlichen Entwicklung ermöglicht.\n",
    "5. Zusammenhänge zwischen Variablen\n",
    "- Erste visuelle Analysen zeigen, dass der Anteil der Fettleibigkeit in vielen Ländern über die Zeit gestiegen ist.\n",
    "\n"
   ]
  },
  {
   "cell_type": "code",
   "execution_count": 15,
   "id": "6db8081e",
   "metadata": {},
   "outputs": [
    {
     "data": {
      "text/plain": [
       "Gebiet             object\n",
       "Code               object\n",
       "Jahr                int64\n",
       "Fettleibigkeit    float64\n",
       "dtype: object"
      ]
     },
     "execution_count": 15,
     "metadata": {},
     "output_type": "execute_result"
    }
   ],
   "source": [
    "df.dtypes"
   ]
  },
  {
   "cell_type": "code",
   "execution_count": 16,
   "id": "b20e4854",
   "metadata": {},
   "outputs": [
    {
     "data": {
      "text/plain": [
       "Gebiet        object\n",
       "Code          object\n",
       "Jahr           int64\n",
       "Woman BMI    float64\n",
       "dtype: object"
      ]
     },
     "execution_count": 16,
     "metadata": {},
     "output_type": "execute_result"
    }
   ],
   "source": [
    "df2.dtypes"
   ]
  },
  {
   "cell_type": "code",
   "execution_count": 17,
   "id": "49d8d63e",
   "metadata": {},
   "outputs": [
    {
     "data": {
      "text/plain": [
       "Gebiet      object\n",
       "Code        object\n",
       "Jahr         int64\n",
       "Man BMI    float64\n",
       "dtype: object"
      ]
     },
     "execution_count": 17,
     "metadata": {},
     "output_type": "execute_result"
    }
   ],
   "source": [
    "df3.dtypes"
   ]
  },
  {
   "cell_type": "markdown",
   "id": "3bc224ef",
   "metadata": {},
   "source": [
    "### 3.1 Analyse Gebiete"
   ]
  },
  {
   "cell_type": "markdown",
   "id": "1e9a2663",
   "metadata": {},
   "source": [
    "1. Anzahl der verschiedenen Gebiete: \n",
    "- Insgesamt gibt es 191 einzigartige Gebiete (Länder oder Regionen) in den Daten. \n",
    "2. Anzahl der Datenpunkte pro Gebiet:\n",
    "- Die Datenpunkte sind gleichmässig auf die meisten Gebiete verteilt, wobei jedes Gebiet 42 Datenpunkte enthält. Dies legt nahe, dass für jedes Jahr (von 1975 bis 2016) Daten für jedes Gebiet erfasst wurden.\n",
    "3. Visualisierung der Datenpunkte:\n",
    "- Die Top 10 Gebiete mit der höchsten Anzahl an Datenpunkten sind in einem horizontalen Balkendiagramm dargestellt. Hier zeigt sich, dass alle Gebiete in den Top 10 die gleiche Anzahl an Datenpunkten (42) aufweisen.\n",
    "- Das zweite Diagramm zeigt die Anzahl der Datenpunkte für alle Gebiete in einem Balkendiagramm. Es bestätigt die gleichmäßige Verteilung der Datenpunkte über die Gebiete."
   ]
  },
  {
   "cell_type": "code",
   "execution_count": 18,
   "id": "d19b0ef0",
   "metadata": {},
   "outputs": [
    {
     "name": "stdout",
     "output_type": "stream",
     "text": [
      "Anzahl verschiedener Gebiete:  197\n"
     ]
    }
   ],
   "source": [
    "print(\"Anzahl verschiedener Gebiete: \", len(df[\"Gebiet\"].unique()))"
   ]
  },
  {
   "cell_type": "code",
   "execution_count": 19,
   "id": "965988ca",
   "metadata": {},
   "outputs": [
    {
     "name": "stdout",
     "output_type": "stream",
     "text": [
      "Anzahl verschiedener Gebiete:  210\n"
     ]
    }
   ],
   "source": [
    "print(\"Anzahl verschiedener Gebiete: \", len(df2[\"Gebiet\"].unique()))"
   ]
  },
  {
   "cell_type": "code",
   "execution_count": 20,
   "id": "5c32c351",
   "metadata": {},
   "outputs": [
    {
     "name": "stdout",
     "output_type": "stream",
     "text": [
      "Anzahl verschiedener Gebiete:  210\n"
     ]
    }
   ],
   "source": [
    "print(\"Anzahl verschiedener Gebiete: \", len(df3[\"Gebiet\"].unique()))"
   ]
  },
  {
   "cell_type": "code",
   "execution_count": 21,
   "id": "357924d4",
   "metadata": {},
   "outputs": [
    {
     "data": {
      "text/plain": [
       "Gebiet\n",
       "Afghanistan    42\n",
       "Nepal          42\n",
       "New Zealand    42\n",
       "Nicaragua      42\n",
       "Niger          42\n",
       "               ..\n",
       "Gambia         42\n",
       "Georgia        42\n",
       "Germany        42\n",
       "Ghana          42\n",
       "Zimbabwe       42\n",
       "Name: count, Length: 197, dtype: int64"
      ]
     },
     "execution_count": 21,
     "metadata": {},
     "output_type": "execute_result"
    }
   ],
   "source": [
    "# Anzahl Datenpunkte pro Gebiet\n",
    "df[\"Gebiet\"].value_counts()"
   ]
  },
  {
   "cell_type": "code",
   "execution_count": 22,
   "id": "0097be02",
   "metadata": {},
   "outputs": [
    {
     "data": {
      "text/plain": [
       "Gebiet\n",
       "Afghanistan    42\n",
       "Rwanda         42\n",
       "New Zealand    42\n",
       "Nicaragua      42\n",
       "Niger          42\n",
       "               ..\n",
       "Ghana          42\n",
       "Greece         42\n",
       "Greenland      42\n",
       "Grenada        42\n",
       "Zimbabwe       42\n",
       "Name: count, Length: 210, dtype: int64"
      ]
     },
     "execution_count": 22,
     "metadata": {},
     "output_type": "execute_result"
    }
   ],
   "source": [
    "# Anzahl Datenpunkte pro Gebiet df2\n",
    "df2[\"Gebiet\"].value_counts()\n"
   ]
  },
  {
   "cell_type": "code",
   "execution_count": 23,
   "id": "d5e0190e",
   "metadata": {},
   "outputs": [
    {
     "data": {
      "text/plain": [
       "Gebiet\n",
       "Afghanistan    42\n",
       "Rwanda         42\n",
       "New Zealand    42\n",
       "Nicaragua      42\n",
       "Niger          42\n",
       "               ..\n",
       "Ghana          42\n",
       "Greece         42\n",
       "Greenland      42\n",
       "Grenada        42\n",
       "Zimbabwe       42\n",
       "Name: count, Length: 210, dtype: int64"
      ]
     },
     "execution_count": 23,
     "metadata": {},
     "output_type": "execute_result"
    }
   ],
   "source": [
    "# Anzahl Datenpunkte pro Gebiet df3\n",
    "df3[\"Gebiet\"].value_counts()"
   ]
  },
  {
   "cell_type": "code",
   "execution_count": 24,
   "id": "cfda96e4",
   "metadata": {},
   "outputs": [
    {
     "data": {
      "text/plain": [
       "<Axes: xlabel='Anzahl', ylabel='Gebiet'>"
      ]
     },
     "execution_count": 24,
     "metadata": {},
     "output_type": "execute_result"
    },
    {
     "data": {
      "image/png": "[encoded data removed]",
      "text/plain": [
       "<Figure size 640x480 with 1 Axes>"
      ]
     },
     "metadata": {},
     "output_type": "display_data"
    }
   ],
   "source": [
    "df[\"Gebiet\"].value_counts().head(10).plot(kind=\"barh\" , xlabel=\"Anzahl\")\n",
    "# das gleiche gilt für df2 und df3, da beide 42 Datenpunkte haben"
   ]
  },
  {
   "cell_type": "code",
   "execution_count": 25,
   "id": "9cd2f761",
   "metadata": {},
   "outputs": [
    {
     "data": {
      "text/plain": [
       "<Axes: title={'center': 'Anzahl Datenpunkte pro Gebiet'}, xlabel='Gebiet', ylabel='Anzahl Datenpunkte'>"
      ]
     },
     "execution_count": 25,
     "metadata": {},
     "output_type": "execute_result"
    },
    {
     "data": {
      "image/png": "[encoded data removed]",
      "text/plain": [
       "<Figure size 640x480 with 1 Axes>"
      ]
     },
     "metadata": {},
     "output_type": "display_data"
    }
   ],
   "source": [
    "df[\"Gebiet\"].value_counts().plot(kind=\"bar\",\n",
    "                                 xticks=[],     # disable labels on x-axis\n",
    "                                 ylabel=\"Anzahl Datenpunkte\", title=\"Anzahl Datenpunkte pro Gebiet\")\n",
    "# gleiche gilt für df2 und df3"
   ]
  },
  {
   "cell_type": "code",
   "execution_count": 26,
   "id": "ad610c2f",
   "metadata": {},
   "outputs": [
    {
     "name": "stdout",
     "output_type": "stream",
     "text": [
      "['Afghanistan', 'Africa (WHO)', 'Albania', 'Algeria', 'Americas (WHO)', 'Andorra', 'Angola', 'Antigua and Barbuda', 'Argentina', 'Armenia', 'Australia', 'Austria', 'Azerbaijan', 'Bahamas', 'Bahrain', 'Bangladesh', 'Barbados', 'Belarus', 'Belgium', 'Belize', 'Benin', 'Bhutan', 'Bolivia', 'Bosnia and Herzegovina', 'Botswana', 'Brazil', 'Brunei', 'Bulgaria', 'Burkina Faso', 'Burundi', 'Cambodia', 'Cameroon', 'Canada', 'Cape Verde', 'Central African Republic', 'Chad', 'Chile', 'China', 'Colombia', 'Comoros', 'Congo', 'Cook Islands', 'Costa Rica', \"Cote d'Ivoire\", 'Croatia', 'Cuba', 'Cyprus', 'Czechia', 'Democratic Republic of Congo', 'Denmark', 'Djibouti', 'Dominica', 'Dominican Republic', 'East Timor', 'Eastern Mediterranean (WHO)', 'Ecuador', 'Egypt', 'El Salvador', 'Equatorial Guinea', 'Eritrea', 'Estonia', 'Eswatini', 'Ethiopia', 'Europe (WHO)', 'Fiji', 'Finland', 'France', 'Gabon', 'Gambia', 'Georgia', 'Germany', 'Ghana', 'Greece', 'Grenada', 'Guatemala', 'Guinea', 'Guinea-Bissau', 'Guyana', 'Haiti', 'Honduras', 'Hungary', 'Iceland', 'India', 'Indonesia', 'Iran', 'Iraq', 'Ireland', 'Israel', 'Italy', 'Jamaica', 'Japan', 'Jordan', 'Kazakhstan', 'Kenya', 'Kiribati', 'Kuwait', 'Kyrgyzstan', 'Laos', 'Latvia', 'Lebanon', 'Lesotho', 'Liberia', 'Libya', 'Lithuania', 'Luxembourg', 'Madagascar', 'Malawi', 'Malaysia', 'Maldives', 'Mali', 'Malta', 'Marshall Islands', 'Mauritania', 'Mauritius', 'Mexico', 'Micronesia (country)', 'Moldova', 'Mongolia', 'Montenegro', 'Morocco', 'Mozambique', 'Myanmar', 'Namibia', 'Nauru', 'Nepal', 'Netherlands', 'New Zealand', 'Nicaragua', 'Niger', 'Nigeria', 'Niue', 'North Korea', 'North Macedonia', 'Norway', 'Oman', 'Pakistan', 'Palau', 'Panama', 'Papua New Guinea', 'Paraguay', 'Peru', 'Philippines', 'Poland', 'Portugal', 'Qatar', 'Romania', 'Russia', 'Rwanda', 'Saint Kitts and Nevis', 'Saint Lucia', 'Saint Vincent and the Grenadines', 'Samoa', 'Sao Tome and Principe', 'Saudi Arabia', 'Senegal', 'Serbia', 'Seychelles', 'Sierra Leone', 'Singapore', 'Slovakia', 'Slovenia', 'Solomon Islands', 'Somalia', 'South Africa', 'South Korea', 'South-East Asia (WHO)', 'Spain', 'Sri Lanka', 'Sudan (former)', 'Suriname', 'Sweden', 'Switzerland', 'Syria', 'Tajikistan', 'Tanzania', 'Thailand', 'Togo', 'Tonga', 'Trinidad and Tobago', 'Tunisia', 'Turkey', 'Turkmenistan', 'Tuvalu', 'Uganda', 'Ukraine', 'United Arab Emirates', 'United Kingdom', 'United States', 'Uruguay', 'Uzbekistan', 'Vanuatu', 'Venezuela', 'Vietnam', 'Western Pacific (WHO)', 'Yemen', 'Zambia', 'Zimbabwe']\n"
     ]
    }
   ],
   "source": [
    "# Liste aller Länder (ohne Duplikate)\n",
    "country_list = list(df['Gebiet'].unique())\n",
    "print(country_list)\n"
   ]
  },
  {
   "cell_type": "code",
   "execution_count": 27,
   "id": "203645d3",
   "metadata": {},
   "outputs": [
    {
     "name": "stdout",
     "output_type": "stream",
     "text": [
      "['Afghanistan', 'Albania', 'Algeria', 'American Samoa', 'Andorra', 'Angola', 'Antigua and Barbuda', 'Argentina', 'Armenia', 'Australia', 'Austria', 'Azerbaijan', 'Bahamas', 'Bahrain', 'Bangladesh', 'Barbados', 'Belarus', 'Belgium', 'Belize', 'Benin', 'Bermuda', 'Bhutan', 'Bolivia', 'Bosnia and Herzegovina', 'Botswana', 'Brazil', 'Brunei', 'Bulgaria', 'Burkina Faso', 'Burundi', 'Cambodia', 'Cameroon', 'Canada', 'Cape Verde', 'Central African Republic', 'Central Asia, Middle East and North Africa', 'Central and Eastern Europe', 'Chad', 'Chile', 'China', 'Colombia', 'Comoros', 'Congo', 'Cook Islands', 'Costa Rica', \"Cote d'Ivoire\", 'Croatia', 'Cuba', 'Cyprus', 'Czechia', 'Democratic Republic of Congo', 'Denmark', 'Djibouti', 'Dominica', 'Dominican Republic', 'East Timor', 'East and South East Asia', 'Ecuador', 'Egypt', 'El Salvador', 'Equatorial Guinea', 'Eritrea', 'Estonia', 'Eswatini', 'Ethiopia', 'Fiji', 'Finland', 'France', 'French Polynesia', 'Gabon', 'Gambia', 'Georgia', 'Germany', 'Ghana', 'Greece', 'Greenland', 'Grenada', 'Guatemala', 'Guinea', 'Guinea-Bissau', 'Guyana', 'Haiti', 'High-income Asia Pacific', 'High-income Western countries', 'Honduras', 'Hong Kong', 'Hungary', 'Iceland', 'India', 'Indonesia', 'Iran', 'Iraq', 'Ireland', 'Israel', 'Italy', 'Jamaica', 'Japan', 'Jordan', 'Kazakhstan', 'Kenya', 'Kiribati', 'Kuwait', 'Kyrgyzstan', 'Laos', 'Latin America and Caribbean', 'Latvia', 'Lebanon', 'Lesotho', 'Liberia', 'Libya', 'Lithuania', 'Luxembourg', 'Madagascar', 'Malawi', 'Malaysia', 'Maldives', 'Mali', 'Malta', 'Marshall Islands', 'Mauritania', 'Mauritius', 'Mexico', 'Micronesia (country)', 'Moldova', 'Mongolia', 'Montenegro', 'Morocco', 'Mozambique', 'Myanmar', 'Namibia', 'Nauru', 'Nepal', 'Netherlands', 'New Zealand', 'Nicaragua', 'Niger', 'Nigeria', 'Niue', 'North Korea', 'North Macedonia', 'Norway', 'Oceania', 'Oman', 'Pakistan', 'Palau', 'Palestine', 'Panama', 'Papua New Guinea', 'Paraguay', 'Peru', 'Philippines', 'Poland', 'Portugal', 'Puerto Rico', 'Qatar', 'Romania', 'Russia', 'Rwanda', 'Saint Kitts and Nevis', 'Saint Lucia', 'Saint Vincent and the Grenadines', 'Samoa', 'Sao Tome and Principe', 'Saudi Arabia', 'Senegal', 'Serbia', 'Seychelles', 'Sierra Leone', 'Singapore', 'Slovakia', 'Slovenia', 'Solomon Islands', 'Somalia', 'South Africa', 'South Asia', 'South Korea', 'Spain', 'Sri Lanka', 'Sub-Saharan Africa', 'Sudan', 'Suriname', 'Sweden', 'Switzerland', 'Syria', 'Taiwan', 'Tajikistan', 'Tanzania', 'Thailand', 'Togo', 'Tokelau', 'Tonga', 'Trinidad and Tobago', 'Tunisia', 'Turkey', 'Turkmenistan', 'Tuvalu', 'Uganda', 'Ukraine', 'United Arab Emirates', 'United Kingdom', 'United States', 'Uruguay', 'Uzbekistan', 'Vanuatu', 'Venezuela', 'Vietnam', 'World', 'Yemen', 'Zambia', 'Zimbabwe']\n"
     ]
    }
   ],
   "source": [
    "# Liste aller Länder (ohne Duplikate)\n",
    "country_list = list(df2['Gebiet'].unique())\n",
    "print(country_list)"
   ]
  },
  {
   "cell_type": "code",
   "execution_count": 28,
   "id": "d0bf6644",
   "metadata": {},
   "outputs": [
    {
     "name": "stdout",
     "output_type": "stream",
     "text": [
      "['Afghanistan', 'Albania', 'Algeria', 'American Samoa', 'Andorra', 'Angola', 'Antigua and Barbuda', 'Argentina', 'Armenia', 'Australia', 'Austria', 'Azerbaijan', 'Bahamas', 'Bahrain', 'Bangladesh', 'Barbados', 'Belarus', 'Belgium', 'Belize', 'Benin', 'Bermuda', 'Bhutan', 'Bolivia', 'Bosnia and Herzegovina', 'Botswana', 'Brazil', 'Brunei', 'Bulgaria', 'Burkina Faso', 'Burundi', 'Cambodia', 'Cameroon', 'Canada', 'Cape Verde', 'Central African Republic', 'Central Asia, Middle East and North Africa', 'Central and Eastern Europe', 'Chad', 'Chile', 'China', 'Colombia', 'Comoros', 'Congo', 'Cook Islands', 'Costa Rica', \"Cote d'Ivoire\", 'Croatia', 'Cuba', 'Cyprus', 'Czechia', 'Democratic Republic of Congo', 'Denmark', 'Djibouti', 'Dominica', 'Dominican Republic', 'East Timor', 'East and South East Asia', 'Ecuador', 'Egypt', 'El Salvador', 'Equatorial Guinea', 'Eritrea', 'Estonia', 'Eswatini', 'Ethiopia', 'Fiji', 'Finland', 'France', 'French Polynesia', 'Gabon', 'Gambia', 'Georgia', 'Germany', 'Ghana', 'Greece', 'Greenland', 'Grenada', 'Guatemala', 'Guinea', 'Guinea-Bissau', 'Guyana', 'Haiti', 'High-income Asia Pacific', 'High-income Western countries', 'Honduras', 'Hong Kong', 'Hungary', 'Iceland', 'India', 'Indonesia', 'Iran', 'Iraq', 'Ireland', 'Israel', 'Italy', 'Jamaica', 'Japan', 'Jordan', 'Kazakhstan', 'Kenya', 'Kiribati', 'Kuwait', 'Kyrgyzstan', 'Laos', 'Latin America and Caribbean', 'Latvia', 'Lebanon', 'Lesotho', 'Liberia', 'Libya', 'Lithuania', 'Luxembourg', 'Madagascar', 'Malawi', 'Malaysia', 'Maldives', 'Mali', 'Malta', 'Marshall Islands', 'Mauritania', 'Mauritius', 'Mexico', 'Micronesia (country)', 'Moldova', 'Mongolia', 'Montenegro', 'Morocco', 'Mozambique', 'Myanmar', 'Namibia', 'Nauru', 'Nepal', 'Netherlands', 'New Zealand', 'Nicaragua', 'Niger', 'Nigeria', 'Niue', 'North Korea', 'North Macedonia', 'Norway', 'Oceania', 'Oman', 'Pakistan', 'Palau', 'Palestine', 'Panama', 'Papua New Guinea', 'Paraguay', 'Peru', 'Philippines', 'Poland', 'Portugal', 'Puerto Rico', 'Qatar', 'Romania', 'Russia', 'Rwanda', 'Saint Kitts and Nevis', 'Saint Lucia', 'Saint Vincent and the Grenadines', 'Samoa', 'Sao Tome and Principe', 'Saudi Arabia', 'Senegal', 'Serbia', 'Seychelles', 'Sierra Leone', 'Singapore', 'Slovakia', 'Slovenia', 'Solomon Islands', 'Somalia', 'South Africa', 'South Asia', 'South Korea', 'Spain', 'Sri Lanka', 'Sub-Saharan Africa', 'Sudan', 'Suriname', 'Sweden', 'Switzerland', 'Syria', 'Taiwan', 'Tajikistan', 'Tanzania', 'Thailand', 'Togo', 'Tokelau', 'Tonga', 'Trinidad and Tobago', 'Tunisia', 'Turkey', 'Turkmenistan', 'Tuvalu', 'Uganda', 'Ukraine', 'United Arab Emirates', 'United Kingdom', 'United States', 'Uruguay', 'Uzbekistan', 'Vanuatu', 'Venezuela', 'Vietnam', 'World', 'Yemen', 'Zambia', 'Zimbabwe']\n"
     ]
    }
   ],
   "source": [
    "# Liste aller Länder (ohne Duplikate)\n",
    "country_list = list(df3['Gebiet'].unique())\n",
    "print(country_list)"
   ]
  },
  {
   "cell_type": "markdown",
   "id": "86883da7",
   "metadata": {},
   "source": [
    "### 3.2 Analyse Codes"
   ]
  },
  {
   "cell_type": "markdown",
   "id": "b67aab14",
   "metadata": {},
   "source": [
    "1. Anzahl verschiedener Codes:\n",
    "- Es gibt insgesamt 191 verschiedene Codes, die den jeweiligen Ländern oder Regionen zugeordnet sind.\n",
    "2. Anzahl der Datenpunkte pro Code:\n",
    "- Die Verteilung der Datenpunkte zeigt, dass jeder Code (Ländercode) 42 Datenpunkte hat. Dies entspricht den 42 Jahren (von 1975 bis 2016) für jedes Land oder jede Region.\n",
    "3. Visualisierung der Datenpunkte:\n",
    "- Das Balkendiagramm bestätigt die gleichmässige Verteilung der Datenpunkte über alle Codes.\n",
    "- Jeder Code hat exakt 42 Einträge, was auf eine konsistente Datenerfassung hinweist."
   ]
  },
  {
   "cell_type": "code",
   "execution_count": 29,
   "id": "b9d1f9b1",
   "metadata": {},
   "outputs": [
    {
     "name": "stdout",
     "output_type": "stream",
     "text": [
      "Anzahl verschiedener Codes: 191\n"
     ]
    }
   ],
   "source": [
    "print(\"Anzahl verschiedener Codes:\", len(df[\"Code\"].unique()))"
   ]
  },
  {
   "cell_type": "code",
   "execution_count": 24,
   "id": "e520c649",
   "metadata": {},
   "outputs": [
    {
     "name": "stdout",
     "output_type": "stream",
     "text": [
      "Anzahl verschiedener Codes: 202\n"
     ]
    }
   ],
   "source": [
    "print(\"Anzahl verschiedener Codes:\", len(df2[\"Code\"].unique()))"
   ]
  },
  {
   "cell_type": "code",
   "execution_count": 27,
   "id": "4773f3d3",
   "metadata": {},
   "outputs": [
    {
     "name": "stdout",
     "output_type": "stream",
     "text": [
      "Anzahl verschiedener Codes: 202\n"
     ]
    }
   ],
   "source": [
    "print(\"Anzahl verschiedener Codes:\", len(df3[\"Code\"].unique()))"
   ]
  },
  {
   "cell_type": "code",
   "execution_count": 31,
   "id": "887990ba",
   "metadata": {},
   "outputs": [
    {
     "data": {
      "text/plain": [
       "Code\n",
       "AFG    42\n",
       "OMN    42\n",
       "NLD    42\n",
       "NZL    42\n",
       "NIC    42\n",
       "       ..\n",
       "GEO    42\n",
       "DEU    42\n",
       "GHA    42\n",
       "GRC    42\n",
       "ZWE    42\n",
       "Name: count, Length: 190, dtype: int64"
      ]
     },
     "execution_count": 31,
     "metadata": {},
     "output_type": "execute_result"
    }
   ],
   "source": [
    "# Anzahl Datenpunkte pro Gebiet\n",
    "df[\"Code\"].value_counts()"
   ]
  },
  {
   "cell_type": "code",
   "execution_count": null,
   "id": "1f3080fa",
   "metadata": {},
   "outputs": [
    {
     "data": {
      "text/plain": [
       "Code\n",
       "AFG    42\n",
       "PSE    42\n",
       "NIC    42\n",
       "NER    42\n",
       "NGA    42\n",
       "       ..\n",
       "GHA    42\n",
       "GRC    42\n",
       "GRL    42\n",
       "GRD    42\n",
       "ZWE    42\n",
       "Name: count, Length: 201, dtype: int64"
      ]
     },
     "execution_count": 25,
     "metadata": {},
     "output_type": "execute_result"
    }
   ],
   "source": [
    "# Anzahl Datenpunkte pro Gebiet, gleiche gilt für df3\n",
    "df2[\"Code\"].value_counts()"
   ]
  },
  {
   "cell_type": "code",
   "execution_count": null,
   "id": "6477c7d0",
   "metadata": {},
   "outputs": [
    {
     "data": {
      "image/png": "[encoded data removed]",
      "text/plain": [
       "<Figure size 640x480 with 1 Axes>"
      ]
     },
     "metadata": {},
     "output_type": "display_data"
    }
   ],
   "source": [
    "df[\"Code\"].value_counts().plot(kind=\"bar\", xticks=[], ylabel=\"Anzahl Datenpunkte\", title=\"Anzahl Datenpunkte pro Code\");\n",
    "#diagramm gleich für df2 und df3"
   ]
  },
  {
   "cell_type": "markdown",
   "id": "1e4b3667",
   "metadata": {},
   "source": [
    "### 3.3 Analyse Jahr"
   ]
  },
  {
   "cell_type": "markdown",
   "id": "5ccb394a",
   "metadata": {},
   "source": [
    "1. Anzahl der verschiedenen Jahre:\n",
    "- Die Daten umfassen insgesamt 42 einzigartige Jahre von 1975 bis 2016.\n",
    "2. Anzahl der Datenpunkte pro Jahr:\n",
    "- Jedes Jahr enthält 197 Datenpunkte, was auf eine vollständige und gleichmässige Verteilung der Daten für alle Länder und Regionen hinweist.\n",
    "3. Visualisierung der Datenpunkte:\n",
    "- Das Diagramm zeigt eine konstante Anzahl von Datenpunkten über die gesamten 42 Jahre hinweg.\n",
    "- Die rote Linie bei 2016 markiert das letzte Jahr der Daten."
   ]
  },
  {
   "cell_type": "code",
   "execution_count": 33,
   "id": "bcf6eb08",
   "metadata": {},
   "outputs": [
    {
     "name": "stdout",
     "output_type": "stream",
     "text": [
      "Anzahl verschiedener Jahre: 42\n"
     ]
    }
   ],
   "source": [
    "print(\"Anzahl verschiedener Jahre:\", len(df[\"Jahr\"].unique()))"
   ]
  },
  {
   "cell_type": "code",
   "execution_count": 27,
   "id": "998632bf",
   "metadata": {},
   "outputs": [
    {
     "name": "stdout",
     "output_type": "stream",
     "text": [
      "Anzahl verschiedener Jahre: 42\n"
     ]
    }
   ],
   "source": [
    "print(\"Anzahl verschiedener Jahre:\", len(df2[\"Jahr\"].unique()))"
   ]
  },
  {
   "cell_type": "code",
   "execution_count": 28,
   "id": "37da11ca",
   "metadata": {},
   "outputs": [
    {
     "name": "stdout",
     "output_type": "stream",
     "text": [
      "Anzahl verschiedener Jahre: 42\n"
     ]
    }
   ],
   "source": [
    "print(\"Anzahl verschiedener Jahre:\", len(df3[\"Jahr\"].unique()))"
   ]
  },
  {
   "cell_type": "code",
   "execution_count": null,
   "id": "4f815a72",
   "metadata": {},
   "outputs": [
    {
     "data": {
      "text/plain": [
       "Jahr\n",
       "1975    197\n",
       "1976    197\n",
       "1977    197\n",
       "1978    197\n",
       "1979    197\n",
       "1980    197\n",
       "1981    197\n",
       "1982    197\n",
       "1983    197\n",
       "1984    197\n",
       "1985    197\n",
       "1986    197\n",
       "1987    197\n",
       "1988    197\n",
       "1989    197\n",
       "1990    197\n",
       "1991    197\n",
       "1992    197\n",
       "1993    197\n",
       "1994    197\n",
       "1995    197\n",
       "1996    197\n",
       "1997    197\n",
       "1998    197\n",
       "1999    197\n",
       "2000    197\n",
       "2001    197\n",
       "2002    197\n",
       "2003    197\n",
       "2004    197\n",
       "2005    197\n",
       "2006    197\n",
       "2007    197\n",
       "2008    197\n",
       "2009    197\n",
       "2010    197\n",
       "2011    197\n",
       "2012    197\n",
       "2013    197\n",
       "2014    197\n",
       "2015    197\n",
       "2016    197\n",
       "Name: count, dtype: int64"
      ]
     },
     "execution_count": 34,
     "metadata": {},
     "output_type": "execute_result"
    }
   ],
   "source": [
    "# Anzahl Datenpunkte pro Jahr\n",
    "df[\"Jahr\"].value_counts().sort_index()"
   ]
  },
  {
   "cell_type": "code",
   "execution_count": 29,
   "id": "01c8d9ee",
   "metadata": {},
   "outputs": [
    {
     "data": {
      "text/plain": [
       "Jahr\n",
       "1975    210\n",
       "1976    210\n",
       "1977    210\n",
       "1978    210\n",
       "1979    210\n",
       "1980    210\n",
       "1981    210\n",
       "1982    210\n",
       "1983    210\n",
       "1984    210\n",
       "1985    210\n",
       "1986    210\n",
       "1987    210\n",
       "1988    210\n",
       "1989    210\n",
       "1990    210\n",
       "1991    210\n",
       "1992    210\n",
       "1993    210\n",
       "1994    210\n",
       "1995    210\n",
       "1996    210\n",
       "1997    210\n",
       "1998    210\n",
       "1999    210\n",
       "2000    210\n",
       "2001    210\n",
       "2002    210\n",
       "2003    210\n",
       "2004    210\n",
       "2005    210\n",
       "2006    210\n",
       "2007    210\n",
       "2008    210\n",
       "2009    210\n",
       "2010    210\n",
       "2011    210\n",
       "2012    210\n",
       "2013    210\n",
       "2014    210\n",
       "2015    210\n",
       "2016    210\n",
       "Name: count, dtype: int64"
      ]
     },
     "execution_count": 29,
     "metadata": {},
     "output_type": "execute_result"
    }
   ],
   "source": [
    "# Anzahl Datenpunkte pro Jahr\n",
    "df2[\"Jahr\"].value_counts().sort_index()"
   ]
  },
  {
   "cell_type": "code",
   "execution_count": 29,
   "id": "3a58cad7",
   "metadata": {},
   "outputs": [
    {
     "data": {
      "text/plain": [
       "Jahr\n",
       "1975    210\n",
       "1976    210\n",
       "1977    210\n",
       "1978    210\n",
       "1979    210\n",
       "1980    210\n",
       "1981    210\n",
       "1982    210\n",
       "1983    210\n",
       "1984    210\n",
       "1985    210\n",
       "1986    210\n",
       "1987    210\n",
       "1988    210\n",
       "1989    210\n",
       "1990    210\n",
       "1991    210\n",
       "1992    210\n",
       "1993    210\n",
       "1994    210\n",
       "1995    210\n",
       "1996    210\n",
       "1997    210\n",
       "1998    210\n",
       "1999    210\n",
       "2000    210\n",
       "2001    210\n",
       "2002    210\n",
       "2003    210\n",
       "2004    210\n",
       "2005    210\n",
       "2006    210\n",
       "2007    210\n",
       "2008    210\n",
       "2009    210\n",
       "2010    210\n",
       "2011    210\n",
       "2012    210\n",
       "2013    210\n",
       "2014    210\n",
       "2015    210\n",
       "2016    210\n",
       "Name: count, dtype: int64"
      ]
     },
     "execution_count": 29,
     "metadata": {},
     "output_type": "execute_result"
    }
   ],
   "source": [
    "# Anzahl Datenpunkte pro Jahr\n",
    "df3[\"Jahr\"].value_counts().sort_index()"
   ]
  },
  {
   "cell_type": "code",
   "execution_count": null,
   "id": "ee1d9b02",
   "metadata": {},
   "outputs": [
    {
     "data": {
      "text/plain": [
       "<matplotlib.legend.Legend at 0x18bfa490920>"
      ]
     },
     "execution_count": 31,
     "metadata": {},
     "output_type": "execute_result"
    },
    {
     "data": {
      "image/png": "[encoded data removed]",
      "text/plain": [
       "<Figure size 640x480 with 1 Axes>"
      ]
     },
     "metadata": {},
     "output_type": "display_data"
    }
   ],
   "source": [
    "# Jahre mit maximaler Anzahl Datenpunkte (257)\n",
    "g = df[\"Jahr\"].value_counts().sort_index().plot(ylabel=\"Anzahl Datenpunkte pro Jahr\");\n",
    "g.axvline(x=2016, color=\"red\", label=\"2016\") # rote Linie bei 2016 - ab sind alle Jahre enthalten\n",
    "g.legend()  # Legende anzeigen\n",
    "\n",
    "#gleiche gilt für df2 und df3, einfach ist die Linie bei 210"
   ]
  },
  {
   "cell_type": "code",
   "execution_count": 36,
   "id": "881c0650",
   "metadata": {},
   "outputs": [
    {
     "data": {
      "text/html": [
       "<div>\n",
       "<style scoped>\n",
       "    .dataframe tbody tr th:only-of-type {\n",
       "        vertical-align: middle;\n",
       "    }\n",
       "\n",
       "    .dataframe tbody tr th {\n",
       "        vertical-align: top;\n",
       "    }\n",
       "\n",
       "    .dataframe thead th {\n",
       "        text-align: right;\n",
       "    }\n",
       "</style>\n",
       "<table border=\"1\" class=\"dataframe\">\n",
       "  <thead>\n",
       "    <tr style=\"text-align: right;\">\n",
       "      <th></th>\n",
       "      <th>Jahr</th>\n",
       "      <th>Fettleibigkeit</th>\n",
       "    </tr>\n",
       "  </thead>\n",
       "  <tbody>\n",
       "    <tr>\n",
       "      <th>count</th>\n",
       "      <td>8274.000000</td>\n",
       "      <td>8274.000000</td>\n",
       "    </tr>\n",
       "    <tr>\n",
       "      <th>mean</th>\n",
       "      <td>1995.500000</td>\n",
       "      <td>11.866594</td>\n",
       "    </tr>\n",
       "    <tr>\n",
       "      <th>std</th>\n",
       "      <td>12.121651</td>\n",
       "      <td>9.696335</td>\n",
       "    </tr>\n",
       "    <tr>\n",
       "      <th>min</th>\n",
       "      <td>1975.000000</td>\n",
       "      <td>0.100000</td>\n",
       "    </tr>\n",
       "    <tr>\n",
       "      <th>25%</th>\n",
       "      <td>1985.000000</td>\n",
       "      <td>3.900000</td>\n",
       "    </tr>\n",
       "    <tr>\n",
       "      <th>50%</th>\n",
       "      <td>1995.500000</td>\n",
       "      <td>10.100000</td>\n",
       "    </tr>\n",
       "    <tr>\n",
       "      <th>75%</th>\n",
       "      <td>2006.000000</td>\n",
       "      <td>17.700000</td>\n",
       "    </tr>\n",
       "    <tr>\n",
       "      <th>max</th>\n",
       "      <td>2016.000000</td>\n",
       "      <td>60.700000</td>\n",
       "    </tr>\n",
       "  </tbody>\n",
       "</table>\n",
       "</div>"
      ],
      "text/plain": [
       "              Jahr  Fettleibigkeit\n",
       "count  8274.000000     8274.000000\n",
       "mean   1995.500000       11.866594\n",
       "std      12.121651        9.696335\n",
       "min    1975.000000        0.100000\n",
       "25%    1985.000000        3.900000\n",
       "50%    1995.500000       10.100000\n",
       "75%    2006.000000       17.700000\n",
       "max    2016.000000       60.700000"
      ]
     },
     "execution_count": 36,
     "metadata": {},
     "output_type": "execute_result"
    }
   ],
   "source": [
    "df.describe()"
   ]
  },
  {
   "cell_type": "code",
   "execution_count": null,
   "id": "06e8f690",
   "metadata": {},
   "outputs": [
    {
     "data": {
      "text/html": [
       "<div>\n",
       "<style scoped>\n",
       "    .dataframe tbody tr th:only-of-type {\n",
       "        vertical-align: middle;\n",
       "    }\n",
       "\n",
       "    .dataframe tbody tr th {\n",
       "        vertical-align: top;\n",
       "    }\n",
       "\n",
       "    .dataframe thead th {\n",
       "        text-align: right;\n",
       "    }\n",
       "</style>\n",
       "<table border=\"1\" class=\"dataframe\">\n",
       "  <thead>\n",
       "    <tr style=\"text-align: right;\">\n",
       "      <th></th>\n",
       "      <th>Jahr</th>\n",
       "      <th>Woman BMI</th>\n",
       "    </tr>\n",
       "  </thead>\n",
       "  <tbody>\n",
       "    <tr>\n",
       "      <th>count</th>\n",
       "      <td>8820.000000</td>\n",
       "      <td>8820.000000</td>\n",
       "    </tr>\n",
       "    <tr>\n",
       "      <th>mean</th>\n",
       "      <td>1995.500000</td>\n",
       "      <td>24.777447</td>\n",
       "    </tr>\n",
       "    <tr>\n",
       "      <th>std</th>\n",
       "      <td>12.121606</td>\n",
       "      <td>2.964798</td>\n",
       "    </tr>\n",
       "    <tr>\n",
       "      <th>min</th>\n",
       "      <td>1975.000000</td>\n",
       "      <td>16.399592</td>\n",
       "    </tr>\n",
       "    <tr>\n",
       "      <th>25%</th>\n",
       "      <td>1985.000000</td>\n",
       "      <td>22.855210</td>\n",
       "    </tr>\n",
       "    <tr>\n",
       "      <th>50%</th>\n",
       "      <td>1995.500000</td>\n",
       "      <td>24.898169</td>\n",
       "    </tr>\n",
       "    <tr>\n",
       "      <th>75%</th>\n",
       "      <td>2006.000000</td>\n",
       "      <td>26.468957</td>\n",
       "    </tr>\n",
       "    <tr>\n",
       "      <th>max</th>\n",
       "      <td>2016.000000</td>\n",
       "      <td>35.224032</td>\n",
       "    </tr>\n",
       "  </tbody>\n",
       "</table>\n",
       "</div>"
      ],
      "text/plain": [
       "              Jahr    Woman BMI\n",
       "count  8820.000000  8820.000000\n",
       "mean   1995.500000    24.777447\n",
       "std      12.121606     2.964798\n",
       "min    1975.000000    16.399592\n",
       "25%    1985.000000    22.855210\n",
       "50%    1995.500000    24.898169\n",
       "75%    2006.000000    26.468957\n",
       "max    2016.000000    35.224032"
      ]
     },
     "execution_count": 32,
     "metadata": {},
     "output_type": "execute_result"
    }
   ],
   "source": [
    "df2.describe()"
   ]
  },
  {
   "cell_type": "code",
   "execution_count": 30,
   "id": "3bd3976c",
   "metadata": {},
   "outputs": [
    {
     "data": {
      "text/html": [
       "<div>\n",
       "<style scoped>\n",
       "    .dataframe tbody tr th:only-of-type {\n",
       "        vertical-align: middle;\n",
       "    }\n",
       "\n",
       "    .dataframe tbody tr th {\n",
       "        vertical-align: top;\n",
       "    }\n",
       "\n",
       "    .dataframe thead th {\n",
       "        text-align: right;\n",
       "    }\n",
       "</style>\n",
       "<table border=\"1\" class=\"dataframe\">\n",
       "  <thead>\n",
       "    <tr style=\"text-align: right;\">\n",
       "      <th></th>\n",
       "      <th>Jahr</th>\n",
       "      <th>Man BMI</th>\n",
       "    </tr>\n",
       "  </thead>\n",
       "  <tbody>\n",
       "    <tr>\n",
       "      <th>count</th>\n",
       "      <td>8820.000000</td>\n",
       "      <td>8820.000000</td>\n",
       "    </tr>\n",
       "    <tr>\n",
       "      <th>mean</th>\n",
       "      <td>1995.500000</td>\n",
       "      <td>24.080696</td>\n",
       "    </tr>\n",
       "    <tr>\n",
       "      <th>std</th>\n",
       "      <td>12.121606</td>\n",
       "      <td>2.717279</td>\n",
       "    </tr>\n",
       "    <tr>\n",
       "      <th>min</th>\n",
       "      <td>1975.000000</td>\n",
       "      <td>17.634594</td>\n",
       "    </tr>\n",
       "    <tr>\n",
       "      <th>25%</th>\n",
       "      <td>1985.000000</td>\n",
       "      <td>22.034299</td>\n",
       "    </tr>\n",
       "    <tr>\n",
       "      <th>50%</th>\n",
       "      <td>1995.500000</td>\n",
       "      <td>24.288264</td>\n",
       "    </tr>\n",
       "    <tr>\n",
       "      <th>75%</th>\n",
       "      <td>2006.000000</td>\n",
       "      <td>25.879535</td>\n",
       "    </tr>\n",
       "    <tr>\n",
       "      <th>max</th>\n",
       "      <td>2016.000000</td>\n",
       "      <td>33.556548</td>\n",
       "    </tr>\n",
       "  </tbody>\n",
       "</table>\n",
       "</div>"
      ],
      "text/plain": [
       "              Jahr      Man BMI\n",
       "count  8820.000000  8820.000000\n",
       "mean   1995.500000    24.080696\n",
       "std      12.121606     2.717279\n",
       "min    1975.000000    17.634594\n",
       "25%    1985.000000    22.034299\n",
       "50%    1995.500000    24.288264\n",
       "75%    2006.000000    25.879535\n",
       "max    2016.000000    33.556548"
      ]
     },
     "execution_count": 30,
     "metadata": {},
     "output_type": "execute_result"
    }
   ],
   "source": [
    "df3.describe()"
   ]
  },
  {
   "cell_type": "markdown",
   "id": "a955f0f2",
   "metadata": {},
   "source": [
    "### 3.4 Analyse Fettleibigkeit"
   ]
  },
  {
   "cell_type": "markdown",
   "id": "81fc732d",
   "metadata": {},
   "source": [
    "1. Histogramm der Fettleibigkeitsverteilung:\n",
    " - Das Histogramm zeigt die Verteilung der Fettleibigkeitswerte über alle Länder und Jahre.\n",
    " - Die meisten Datenpunkte liegen zwischen 0% und 20%, was darauf hinweist, dass in vielen Regionen der Anteil an fettleibigen Erwachsenen relativ niedrig ist.\n",
    " - Der Mittelwert liegt bei 11.87% (rote Linie), während der Median bei 10.10% (orange Linie) liegt.\n",
    " - Der Unterschied zwischen Mittelwert und Median zeigt, dass die Verteilung rechtsschief ist, d.h., es gibt einige Regionen mit deutlich höheren Werten, die den Mittelwert anheben.\n",
    "2. Durchschnittliche Fettleibigkeitswerte pro Gebiet:\n",
    " - Die Top 10 Regionen mit den höchsten durchschnittlichen Fettleibigkeitswerten sind dargestellt.\n",
    " - An der Spitze stehen Länder wie NRU (Nauru) und PLW (Palau) mit durchschnittlichen Werten von über 50%.\n",
    " - Diese Länder befinden sich vor allem in der pazifischen Region, wo Fettleibigkeit traditionell ein großes Problem darstellt."
   ]
  },
  {
   "cell_type": "code",
   "execution_count": 30,
   "id": "3d0ad2b3",
   "metadata": {},
   "outputs": [
    {
     "data": {
      "text/plain": [
       "<matplotlib.legend.Legend at 0x262ba2c2420>"
      ]
     },
     "execution_count": 30,
     "metadata": {},
     "output_type": "execute_result"
    },
    {
     "data": {
      "image/png": "[encoded data removed]",
      "text/plain": [
       "<Figure size 640x480 with 1 Axes>"
      ]
     },
     "metadata": {},
     "output_type": "display_data"
    }
   ],
   "source": [
    "g = df['Fettleibigkeit'].plot(kind='hist', bins=20, title='Histogramm der Fettleibigkeit', \n",
    "                           xlabel='Fettleibigkeit', ylabel='Anzahl Datenpunkte')\n",
    "mean = df['Fettleibigkeit'].mean()\n",
    "g.axvline(x=df['Fettleibigkeit'].mean(), color='red',label=f'Mittelwert = {mean:.2f}')  # rote Linie bei Mittelwert\n",
    "\n",
    "median = df['Fettleibigkeit'].median()\n",
    "g.axvline(x=df['Fettleibigkeit'].median(), color='orange',label=  f'Median = {median:.2f}')  # orange Linie bei Median\n",
    "\n",
    "g.legend()"
   ]
  },
  {
   "cell_type": "code",
   "execution_count": 31,
   "id": "bc790c23",
   "metadata": {},
   "outputs": [
    {
     "data": {
      "text/plain": [
       "<matplotlib.legend.Legend at 0x262b99c0920>"
      ]
     },
     "execution_count": 31,
     "metadata": {},
     "output_type": "execute_result"
    },
    {
     "data": {
      "image/png": "[encoded data removed]",
      "text/plain": [
       "<Figure size 640x480 with 1 Axes>"
      ]
     },
     "metadata": {},
     "output_type": "display_data"
    }
   ],
   "source": [
    "g = df2['Woman BMI'].plot(kind='hist', bins=20, title='Histogramm BMI Woman', \n",
    "                           xlabel='Woman BMI', ylabel='Anzahl Datenpunkte')\n",
    "mean = df2['Woman BMI'].mean()\n",
    "g.axvline(x=df2['Woman BMI'].mean(), color='red',label=f'Mittelwert = {mean:.2f}')  # rote Linie bei Mittelwert\n",
    "\n",
    "median = df2['Woman BMI'].median()\n",
    "g.axvline(x=df2['Woman BMI'].median(), color='orange',label=  f'Median = {median:.2f}')  # orange Linie bei Median\n",
    "\n",
    "g.legend()"
   ]
  },
  {
   "cell_type": "code",
   "execution_count": 32,
   "id": "c9634f63",
   "metadata": {},
   "outputs": [
    {
     "data": {
      "text/plain": [
       "<matplotlib.legend.Legend at 0x262ba65e2a0>"
      ]
     },
     "execution_count": 32,
     "metadata": {},
     "output_type": "execute_result"
    },
    {
     "data": {
      "image/png": "[encoded data removed]",
      "text/plain": [
       "<Figure size 640x480 with 1 Axes>"
      ]
     },
     "metadata": {},
     "output_type": "display_data"
    }
   ],
   "source": [
    "g = df3['Man BMI'].plot(kind='hist', bins=20, title='Histogramm BMI Man', \n",
    "                           xlabel='Man BMI', ylabel='Anzahl Datenpunkte')\n",
    "mean = df3['Man BMI'].mean()\n",
    "g.axvline(x=df3['Man BMI'].mean(), color='red',label=f'Mittelwert = {mean:.2f}')  # rote Linie bei Mittelwert\n",
    "\n",
    "median = df3['Man BMI'].median()\n",
    "g.axvline(x=df3['Man BMI'].median(), color='orange',label=  f'Median = {median:.2f}')  # orange Linie bei Median\n",
    "\n",
    "g.legend()"
   ]
  },
  {
   "cell_type": "code",
   "execution_count": 39,
   "id": "f2de52e9",
   "metadata": {},
   "outputs": [
    {
     "data": {
      "image/png": "[encoded data removed]",
      "text/plain": [
       "<Figure size 640x480 with 1 Axes>"
      ]
     },
     "metadata": {},
     "output_type": "display_data"
    }
   ],
   "source": [
    "gebiet_avg = df.groupby('Gebiet')['Fettleibigkeit'].mean()\n",
    "gebiet_avg = gebiet_avg.sort_values(ascending=False).head(10)\n",
    "gebiet_avg.plot(kind=\"barh\", xlabel=\"Durchschnittliche Fettleibigkeit\", ylabel=\"Gebiet\", title=\"Durchschnittliche Fettleibigkeitswerte pro Gebiet\", color='skyblue')\n",
    "plt.show()"
   ]
  },
  {
   "cell_type": "code",
   "execution_count": 34,
   "id": "08dd505a",
   "metadata": {},
   "outputs": [
    {
     "data": {
      "image/png": "[encoded data removed]",
      "text/plain": [
       "<Figure size 640x480 with 1 Axes>"
      ]
     },
     "metadata": {},
     "output_type": "display_data"
    }
   ],
   "source": [
    "gebiet_avg = df2.groupby('Gebiet')['Woman BMI'].mean()\n",
    "gebiet_avg = gebiet_avg.sort_values(ascending=False).head(10)\n",
    "gebiet_avg.plot(kind=\"barh\", xlabel=\"Durchschnittliche Frauen BMI\", ylabel=\"Gebiet\", title=\"Durchschnittliche Frauen BMI werte pro Gebiet\", color='pink')\n",
    "plt.show()"
   ]
  },
  {
   "cell_type": "code",
   "execution_count": 34,
   "id": "014cc04d",
   "metadata": {},
   "outputs": [
    {
     "data": {
      "image/png": "[encoded data removed]",
      "text/plain": [
       "<Figure size 640x480 with 1 Axes>"
      ]
     },
     "metadata": {},
     "output_type": "display_data"
    }
   ],
   "source": [
    "gebiet_avg = df3.groupby('Gebiet')['Man BMI'].mean()\n",
    "gebiet_avg = gebiet_avg.sort_values(ascending=False).head(10)\n",
    "gebiet_avg.plot(kind=\"barh\", xlabel=\"Durchschnittliche Männer BMI\", ylabel=\"Gebiet\", title=\"Durchschnittliche Männer BMI werte pro Gebiet\", color='blue')\n",
    "plt.show()"
   ]
  },
  {
   "cell_type": "code",
   "execution_count": 33,
   "id": "25d866cd",
   "metadata": {},
   "outputs": [
    {
     "name": "stdout",
     "output_type": "stream",
     "text": [
      "                       count       mean       std  min     25%    50%     75%  \\\n",
      "Gebiet                                                                          \n",
      "Afghanistan             42.0   1.795238  1.209304  0.4   0.800   1.45   2.575   \n",
      "Africa (WHO)            42.0   4.609524  2.230477  1.7   2.625   4.20   6.325   \n",
      "Albania                 42.0  12.016667  5.177857  5.7   7.475  10.80  16.050   \n",
      "Algeria                 42.0  13.871429  6.168618  5.9   8.500  12.75  18.425   \n",
      "Americas (WHO)          42.0  17.869048  6.231137  9.0  12.300  17.25  23.075   \n",
      "...                      ...        ...       ...  ...     ...    ...     ...   \n",
      "Vietnam                 42.0   0.630952  0.551489  0.1   0.200   0.40   0.875   \n",
      "Western Pacific (WHO)   42.0   2.585714  1.767259  0.7   1.125   2.00   3.750   \n",
      "Yemen                   42.0   6.788095  3.377559  2.5   3.850   6.20   9.125   \n",
      "Zambia                  42.0   3.252381  1.408032  1.3   2.225   2.95   4.050   \n",
      "Zimbabwe                42.0   7.250000  2.824393  3.0   4.650   7.20   9.625   \n",
      "\n",
      "                        max  \n",
      "Gebiet                       \n",
      "Afghanistan             4.5  \n",
      "Africa (WHO)            9.1  \n",
      "Albania                22.3  \n",
      "Algeria                26.6  \n",
      "Americas (WHO)         29.0  \n",
      "...                     ...  \n",
      "Vietnam                 2.1  \n",
      "Western Pacific (WHO)   6.7  \n",
      "Yemen                  14.1  \n",
      "Zambia                  6.5  \n",
      "Zimbabwe               12.3  \n",
      "\n",
      "[197 rows x 8 columns]\n"
     ]
    }
   ],
   "source": [
    "print(df.groupby('Gebiet')['Fettleibigkeit'].describe())"
   ]
  },
  {
   "cell_type": "code",
   "execution_count": 34,
   "id": "e3a96c0c",
   "metadata": {},
   "outputs": [
    {
     "name": "stdout",
     "output_type": "stream",
     "text": [
      "                count       mean       std        min        25%        50%  \\\n",
      "Gebiet                                                                        \n",
      "Afghanistan      42.0  21.575095  1.604263  18.844326  20.255724  21.571322   \n",
      "Albania          42.0  25.016024  0.777768  23.890636  24.389408  24.858454   \n",
      "Algeria          42.0  24.722424  1.235923  22.538677  23.692809  24.844411   \n",
      "American Samoa   42.0  34.386760  0.957883  32.258886  33.712654  34.847088   \n",
      "Andorra          42.0  26.476417  0.204516  25.886079  26.363903  26.550952   \n",
      "...               ...        ...       ...        ...        ...        ...   \n",
      "Vietnam          42.0  19.697406  1.194036  17.833475  18.707643  19.602740   \n",
      "World            42.0  23.408095  0.797147  22.077702  22.752654  23.394156   \n",
      "Yemen            42.0  21.797903  1.509498  19.239252  20.519763  21.835744   \n",
      "Zambia           42.0  22.317811  0.901664  20.525578  21.696044  22.348568   \n",
      "Zimbabwe         42.0  24.692756  0.454663  23.853442  24.343982  24.703509   \n",
      "\n",
      "                      75%        max  \n",
      "Gebiet                                \n",
      "Afghanistan     22.923419  24.234135  \n",
      "Albania         25.626920  26.507512  \n",
      "Algeria         25.792729  26.561166  \n",
      "American Samoa  35.175005  35.224032  \n",
      "Andorra         26.633605  26.674766  \n",
      "...                   ...        ...  \n",
      "Vietnam         20.613256  21.940594  \n",
      "World           24.069677  24.751606  \n",
      "Yemen           23.103381  24.197709  \n",
      "Zambia          23.009457  23.833982  \n",
      "Zimbabwe        25.070597  25.431487  \n",
      "\n",
      "[210 rows x 8 columns]\n"
     ]
    }
   ],
   "source": [
    "print(df2.groupby('Gebiet')['Woman BMI'].describe())"
   ]
  },
  {
   "cell_type": "code",
   "execution_count": 36,
   "id": "f7a8987b",
   "metadata": {},
   "outputs": [
    {
     "name": "stdout",
     "output_type": "stream",
     "text": [
      "                count       mean       std        min        25%        50%  \\\n",
      "Gebiet                                                                        \n",
      "Afghanistan      42.0  20.935175  1.085753  18.999440  20.065391  20.976686   \n",
      "Albania          42.0  25.313213  0.959685  23.875925  24.549537  25.143283   \n",
      "Algeria          42.0  23.102680  1.065815  21.316564  22.200819  23.154174   \n",
      "American Samoa   42.0  32.457527  1.355704  29.027740  31.809636  33.139160   \n",
      "Andorra          42.0  26.611302  0.743971  25.124438  26.048393  26.708449   \n",
      "...               ...        ...       ...        ...        ...        ...   \n",
      "Vietnam          42.0  19.810492  0.998909  18.485934  19.010830  19.562015   \n",
      "World            42.0  23.028337  0.824589  21.655140  22.360497  23.002702   \n",
      "Yemen            42.0  22.040978  1.027507  20.280375  21.174161  22.102369   \n",
      "Zambia           42.0  20.246068  0.824630  18.505379  19.676694  20.402386   \n",
      "Zimbabwe         42.0  21.467076  0.624088  20.172741  21.017685  21.600749   \n",
      "\n",
      "                      75%        max  \n",
      "Gebiet                                \n",
      "Afghanistan     21.849684  22.682456  \n",
      "Albania         26.058315  27.174471  \n",
      "Algeria         23.974491  24.865386  \n",
      "American Samoa  33.410207  33.556548  \n",
      "Andorra         27.333750  27.478395  \n",
      "...                   ...        ...  \n",
      "Vietnam         20.494784  21.970528  \n",
      "World           23.701266  24.457105  \n",
      "Yemen           22.885476  23.726697  \n",
      "Zambia          20.893463  21.448027  \n",
      "Zimbabwe        21.987201  22.301353  \n",
      "\n",
      "[210 rows x 8 columns]\n"
     ]
    }
   ],
   "source": [
    "print(df3.groupby('Gebiet')['Man BMI'].describe())"
   ]
  },
  {
   "cell_type": "markdown",
   "id": "bbdf3294",
   "metadata": {},
   "source": [
    "## 4. Analyse \n",
    "1. Spezifische Untersuchung der Fragestellung\n",
    "Die Fragestellung lautet: Wie hoch ist der Anteil der Erwachsenen ab 18 Jahren, die einen BMI ≥ 30 (Fettleibigkeit) aufweisen?\n",
    "  - Der globale Durchschnitt der Fettleibigkeitsrate wurde berechnet und beträgt 11.87%, was bedeutet, dass etwa 12% der Erwachsenen weltweit als fettleibig eingestuft werden.\n",
    "  - Die Medianrate liegt bei 10.10%, was zeigt, dass die Hälfte der Länder eine Fettleibigkeitsrate unter diesem Wert hat.\n",
    "  - Die Verteilung der Werte ist rechtsschief, da einige Länder extrem hohe Fettleibigkeitsraten aufweisen, was den globalen Durchschnitt anhebt.\n",
    "2. Visualisierung der Resultate\n",
    "- Zeitliche Entwicklung:\n",
    "  Das Liniendiagramm zeigt, dass die Fettleibigkeitsrate weltweit von 1975 bis 2016 kontinuierlich gestiegen ist. Dies deutet auf veränderte Ernährungs- und Lebensgewohnheiten hin.\n",
    "- Regionale Unterschiede:\n",
    "  Das Balkendiagramm zeigt die Länder mit den höchsten und niedrigsten durchschnittlichen Fettleibigkeitswerten:\n",
    "  - Top 5 Länder: Insbesondere Länder in der pazifischen Region wie Vietnam, East Timor und Bangladesh weisen Werte von bis zu 50% auf.\n",
    "  - Bottom 5 Länder: Länder wie Nepal und andere in Südostasien haben sehr niedrige Fettleibigkeitsraten (nahe 0–5%).\n",
    "- Verteilung der Fettleibigkeitswerte:\n",
    "  - Das Histogramm und der Boxplot verdeutlichen die rechtsschiefe Verteilung. Der Grossteil der Länder hat niedrige Werte, während eine kleine Anzahl von Ländern sehr hohe Fettleibigkeitsraten zeigt.\n",
    "3. Beobachtungen und Interpretation\n",
    "- Der globale Mittelwert liegt bei 11.87%, der Median bei 10.10%, was eine ungleichmässige Verteilung der Fettleibigkeitswerte zeigt. Dies zeigt, wie gross der Unterschied zwischen Armut und Reichtum ist.\n",
    "- Die steigende Fettleibigkeitsrate deutet auf globale Veränderungen im Lebensstil und Ernährungsgewohnheiten hin. Grundsetzlich werden zu viele Kalorien eingenommen, als effektiv verbraucht werden. Hinzu kommt, dass wir uns immer weniger bewegen. Wir nehmen die Rolltreppe oder den Lift anstelle von normalen Treppen. Wir verbingen die Zeit lieber damit eine Serie zu schauen, als Draussen zu sein und uns zu bewegen. Dies sind nur weniger Beispiele, natürlich gibt es noch viele andere Gründe für die steigende Fettleibigkeit. \n",
    "- Regionen wie die pazifischen Inselstaaten sind besonders betroffen, während Länder in Südostasien geringere Raten aufweisen. - Gründe für die hohe Fettleibigkeit der Inselstaaten sind zum einen kulturelle Einflüsse, das Übergewicht ist dort ein Zeichen für Wohlstand. Zum anderen spielen auch die begrenzten Ressourcen eine Rolle, verarbeitete und ungesunde Lebensmittel sind einfacher und günstiger zu bekommen als Gemüse und Obst. Hinzu kommt der Mangel an körperlicher Bewegung.\n",
    "\n"
   ]
  },
  {
   "cell_type": "markdown",
   "id": "fdbefbc1",
   "metadata": {},
   "source": [
    "### Überblick der Fettleibigkeitsdaten"
   ]
  },
  {
   "cell_type": "code",
   "execution_count": 61,
   "id": "328c7cef",
   "metadata": {},
   "outputs": [
    {
     "name": "stdout",
     "output_type": "stream",
     "text": [
      "Jahr\n",
      "1975     6.027411\n",
      "1976     6.221827\n",
      "1977     6.417259\n",
      "1978     6.619289\n",
      "1979     6.831980\n",
      "1980     7.044162\n",
      "1981     7.271066\n",
      "1982     7.503553\n",
      "1983     7.743147\n",
      "1984     7.995431\n",
      "1985     8.251777\n",
      "1986     8.520812\n",
      "1987     8.800000\n",
      "1988     9.078680\n",
      "1989     9.368020\n",
      "1990     9.676650\n",
      "1991     9.983249\n",
      "1992    10.293401\n",
      "1993    10.608629\n",
      "1994    10.925888\n",
      "1995    11.246701\n",
      "1996    11.581218\n",
      "1997    11.913198\n",
      "1998    12.256345\n",
      "1999    12.606091\n",
      "2000    12.952284\n",
      "2001    13.301523\n",
      "2002    13.660914\n",
      "2003    14.028426\n",
      "2004    14.406091\n",
      "2005    14.779695\n",
      "2006    15.160914\n",
      "2007    15.556853\n",
      "2008    15.965990\n",
      "2009    16.377157\n",
      "2010    16.812183\n",
      "2011    17.252284\n",
      "2012    17.706091\n",
      "2013    18.171066\n",
      "2014    18.653807\n",
      "2015    19.160406\n",
      "2016    19.665482\n",
      "Name: Fettleibigkeit, dtype: float64\n"
     ]
    }
   ],
   "source": [
    "mean_per_year_all = df.groupby('Jahr')['Fettleibigkeit'].mean()\n",
    "print(mean_per_year_all)\n"
   ]
  },
  {
   "cell_type": "code",
   "execution_count": 62,
   "id": "9a86907b",
   "metadata": {},
   "outputs": [
    {
     "name": "stdout",
     "output_type": "stream",
     "text": [
      "Jahr\n",
      "1975    22.815293\n",
      "1976    22.924180\n",
      "1977    23.031596\n",
      "1978    23.137601\n",
      "1979    23.242557\n",
      "1980    23.346755\n",
      "1981    23.450199\n",
      "1982    23.552954\n",
      "1983    23.655087\n",
      "1984    23.756503\n",
      "1985    23.857129\n",
      "1986    23.956653\n",
      "1987    24.055105\n",
      "1988    24.152696\n",
      "1989    24.249513\n",
      "1990    24.345615\n",
      "1991    24.439722\n",
      "1992    24.532196\n",
      "1993    24.623177\n",
      "1994    24.712952\n",
      "1995    24.802336\n",
      "1996    24.891429\n",
      "1997    24.980338\n",
      "1998    25.069165\n",
      "1999    25.157628\n",
      "2000    25.245073\n",
      "2001    25.331339\n",
      "2002    25.416053\n",
      "2003    25.498910\n",
      "2004    25.579877\n",
      "2005    25.658738\n",
      "2006    25.735976\n",
      "2007    25.812173\n",
      "2008    25.887723\n",
      "2009    25.962537\n",
      "2010    26.036436\n",
      "2011    26.109822\n",
      "2012    26.182815\n",
      "2013    26.255686\n",
      "2014    26.328336\n",
      "2015    26.400608\n",
      "2016    26.472312\n",
      "Name: Woman BMI, dtype: float64\n"
     ]
    }
   ],
   "source": [
    "mean_per_year_woman = df2.groupby('Jahr')['Woman BMI'].mean()\n",
    "print(mean_per_year_woman)\n"
   ]
  },
  {
   "cell_type": "code",
   "execution_count": 63,
   "id": "b23944e0",
   "metadata": {},
   "outputs": [
    {
     "name": "stdout",
     "output_type": "stream",
     "text": [
      "Jahr\n",
      "1975    22.252291\n",
      "1976    22.351901\n",
      "1977    22.450903\n",
      "1978    22.549518\n",
      "1979    22.647891\n",
      "1980    22.746036\n",
      "1981    22.843858\n",
      "1982    22.941212\n",
      "1983    23.038023\n",
      "1984    23.134108\n",
      "1985    23.229228\n",
      "1986    23.322939\n",
      "1987    23.415285\n",
      "1988    23.506425\n",
      "1989    23.596234\n",
      "1990    23.684724\n",
      "1991    23.771145\n",
      "1992    23.855723\n",
      "1993    23.938830\n",
      "1994    24.020583\n",
      "1995    24.101182\n",
      "1996    24.181165\n",
      "1997    24.260511\n",
      "1998    24.339796\n",
      "1999    24.418842\n",
      "2000    24.497433\n",
      "2001    24.576039\n",
      "2002    24.654703\n",
      "2003    24.733391\n",
      "2004    24.811827\n",
      "2005    24.889376\n",
      "2006    24.966035\n",
      "2007    25.041662\n",
      "2008    25.116178\n",
      "2009    25.189275\n",
      "2010    25.260859\n",
      "2011    25.331882\n",
      "2012    25.402458\n",
      "2013    25.472980\n",
      "2014    25.544071\n",
      "2015    25.615499\n",
      "2016    25.687210\n",
      "Name: Man BMI, dtype: float64\n"
     ]
    }
   ],
   "source": [
    "mean_per_year_man = df3.groupby('Jahr')['Man BMI'].mean()\n",
    "print(mean_per_year_man)"
   ]
  },
  {
   "cell_type": "code",
   "execution_count": 64,
   "id": "35c9a37b",
   "metadata": {},
   "outputs": [
    {
     "name": "stdout",
     "output_type": "stream",
     "text": [
      "[6.027411167512691, 6.2218274111675145, 6.41725888324873, 6.619289340101521, 6.831979695431473, 7.044162436548223, 7.271065989847716, 7.503553299492385, 7.743147208121828, 7.995431472081218, 8.251776649746194, 8.520812182741116, 8.8, 9.078680203045685, 9.368020304568528, 9.676649746192892, 9.983248730964466, 10.293401015228426, 10.608629441624364, 10.925888324873096, 11.246700507614214, 11.581218274111675, 11.913197969543145, 12.256345177664974, 12.606091370558374, 12.952284263959388, 13.301522842639592, 13.660913705583758, 14.028426395939086, 14.406091370558375, 14.779695431472083, 15.160913705583756, 15.556852791878171, 15.965989847715736, 16.37715736040609, 16.81218274111675, 17.25228426395939, 17.706091370558376, 18.171065989847715, 18.653807106598983, 19.16040609137056, 19.665482233502534]\n"
     ]
    }
   ],
   "source": [
    "# Beispiel: Durchschnittliche Fettleibigkeitsrate pro Jahr berechnen\n",
    "years = df['Jahr'].unique()\n",
    "averages = []\n",
    "\n",
    "for year in years:\n",
    "    avg = df[df['Jahr'] == year]['Fettleibigkeit'].mean()\n",
    "    averages.append(avg)\n",
    "print(averages)\n"
   ]
  },
  {
   "cell_type": "code",
   "execution_count": 65,
   "id": "3a15d12b",
   "metadata": {},
   "outputs": [
    {
     "name": "stdout",
     "output_type": "stream",
     "text": [
      "[22.815293120619042, 22.9241802477619, 23.031595952952376, 23.137600738285713, 23.24255734752381, 23.346754982666667, 23.450199129190477, 23.552953701285713, 23.655087337333335, 23.756502500904762, 23.857129492142857, 23.956653283095235, 24.055104526190476, 24.152696391619045, 24.24951272052381, 24.345614917380953, 24.43972195609524, 24.532195942190473, 24.623176612714285, 24.712951589142858, 24.80233567804762, 24.89142934809524, 24.980337811714282, 25.069165374904767, 25.157627925285713, 25.24507259085714, 25.33133892595238, 25.41605285495238, 25.498909536571425, 25.57987708695238, 25.65873834585714, 25.73597589552381, 25.812173036714288, 25.887723173190476, 25.962537409285712, 26.036436405714284, 26.10982170866667, 26.182815187476187, 26.255685915285714, 26.328335876190476, 26.40060798228571, 26.47231189352381]\n"
     ]
    }
   ],
   "source": [
    "# Beispiel: Durchschnittliche Woman BMI pro Jahr berechnen\n",
    "years = df2['Jahr'].unique()\n",
    "averages = []\n",
    "\n",
    "for year in years:\n",
    "    avg = df2[df2['Jahr'] == year]['Woman BMI'].mean()\n",
    "    averages.append(avg)\n",
    "print(averages)"
   ]
  },
  {
   "cell_type": "code",
   "execution_count": 66,
   "id": "74b0f8dd",
   "metadata": {},
   "outputs": [
    {
     "name": "stdout",
     "output_type": "stream",
     "text": [
      "[22.25229121247619, 22.351901213190477, 22.45090283728571, 22.549517924714287, 22.647890816904763, 22.74603592761905, 22.84385786095238, 22.94121179214286, 23.038022751904762, 23.134107658190477, 23.229228317857146, 23.322938882571425, 23.415285139714285, 23.506425483, 23.59623427595238, 23.684723951, 23.7711451267619, 23.855723049428573, 23.938829697285716, 24.02058278676191, 24.101182015666666, 24.181164705476192, 24.260510929380953, 24.339796018666668, 24.418841530285714, 24.497432771619053, 24.576039304142856, 24.654702954571427, 24.733390971476197, 24.811827300238093, 24.889375833095237, 24.96603529547619, 25.04166214504762, 25.116178088666665, 25.189274564, 25.260858823190475, 25.33188155885714, 25.402458171190474, 25.47298017552381, 25.54407101561905, 25.61549880528571, 25.687209546380952]\n"
     ]
    }
   ],
   "source": [
    "# Beispiel: Durchschnittliche Man BMI pro Jahr berechnen\n",
    "years = df3['Jahr'].unique()\n",
    "averages = []\n",
    "\n",
    "for year in years:\n",
    "    avg = df3[df3['Jahr'] == year]['Man BMI'].mean()\n",
    "    averages.append(avg)\n",
    "print(averages)"
   ]
  },
  {
   "cell_type": "code",
   "execution_count": 67,
   "id": "cd9c3bbc",
   "metadata": {},
   "outputs": [
    {
     "data": {
      "image/png": "[encoded data removed]",
      "text/plain": [
       "<Figure size 1000x600 with 1 Axes>"
      ]
     },
     "metadata": {},
     "output_type": "display_data"
    }
   ],
   "source": [
    "import matplotlib.pyplot as plt\n",
    "\n",
    "plt.figure(figsize=(10, 6))\n",
    "plt.plot(mean_per_year_all.index, mean_per_year_all.values, marker='o', linestyle='-')\n",
    "plt.title('Entwicklung der Fettleibigkeit über die Zeit')\n",
    "plt.xlabel('Jahr')\n",
    "plt.ylabel('Durchschnittliche Fettleibigkeit (%)')\n",
    "plt.grid(True)\n",
    "plt.show()\n"
   ]
  },
  {
   "cell_type": "code",
   "execution_count": 68,
   "id": "f7565516",
   "metadata": {},
   "outputs": [
    {
     "data": {
      "image/png": "[encoded data removed]",
      "text/plain": [
       "<Figure size 1000x600 with 1 Axes>"
      ]
     },
     "metadata": {},
     "output_type": "display_data"
    }
   ],
   "source": [
    "import matplotlib.pyplot as plt\n",
    "\n",
    "plt.figure(figsize=(10, 6))\n",
    "plt.plot(mean_per_year_woman.index, mean_per_year_woman.values, marker='o', linestyle='-')\n",
    "plt.title('Entwicklung der Woman BMI über die Zeit')\n",
    "plt.xlabel('Jahr')\n",
    "plt.ylabel('Durchschnittliche Woman BMI')\n",
    "plt.grid(True)\n",
    "plt.show()"
   ]
  },
  {
   "cell_type": "code",
   "execution_count": 69,
   "id": "3d25edc9",
   "metadata": {},
   "outputs": [
    {
     "data": {
      "image/png": "[encoded data removed]",
      "text/plain": [
       "<Figure size 1000x600 with 1 Axes>"
      ]
     },
     "metadata": {},
     "output_type": "display_data"
    }
   ],
   "source": [
    "import matplotlib.pyplot as plt\n",
    "\n",
    "plt.figure(figsize=(10, 6))\n",
    "plt.plot(mean_per_year_man.index, mean_per_year_man.values, marker='o', linestyle='-')\n",
    "plt.title('Entwicklung der Man BMI über die Zeit')\n",
    "plt.xlabel('Jahr')\n",
    "plt.ylabel('Durchschnittliche Man BMI')\n",
    "plt.grid(True)\n",
    "plt.show()"
   ]
  },
  {
   "cell_type": "code",
   "execution_count": 70,
   "id": "e8ba8a86",
   "metadata": {},
   "outputs": [
    {
     "name": "stdout",
     "output_type": "stream",
     "text": [
      "{1975: 6.027411167512691, 1976: 6.2218274111675145, 1977: 6.41725888324873, 1978: 6.619289340101521, 1979: 6.831979695431473, 1980: 7.044162436548223, 1981: 7.271065989847716, 1982: 7.503553299492385, 1983: 7.743147208121828, 1984: 7.995431472081218, 1985: 8.251776649746194, 1986: 8.520812182741116, 1987: 8.8, 1988: 9.078680203045685, 1989: 9.368020304568528, 1990: 9.676649746192892, 1991: 9.983248730964466, 1992: 10.293401015228426, 1993: 10.608629441624364, 1994: 10.925888324873096, 1995: 11.246700507614214, 1996: 11.581218274111675, 1997: 11.913197969543145, 1998: 12.256345177664974, 1999: 12.606091370558374, 2000: 12.952284263959388, 2001: 13.301522842639592, 2002: 13.660913705583758, 2003: 14.028426395939086, 2004: 14.406091370558375, 2005: 14.779695431472083, 2006: 15.160913705583756, 2007: 15.556852791878171, 2008: 15.965989847715736, 2009: 16.37715736040609, 2010: 16.81218274111675, 2011: 17.25228426395939, 2012: 17.706091370558376, 2013: 18.171065989847715, 2014: 18.653807106598983, 2015: 19.16040609137056, 2016: 19.665482233502534}\n"
     ]
    }
   ],
   "source": [
    "# Dictionary zur Speicherung der Durchschnittswerte\n",
    "avg_dict = {year: df[df['Jahr'] == year]['Fettleibigkeit'].mean() for year in years}\n",
    "print(avg_dict)\n"
   ]
  },
  {
   "cell_type": "code",
   "execution_count": 71,
   "id": "cac04b0f",
   "metadata": {},
   "outputs": [
    {
     "name": "stdout",
     "output_type": "stream",
     "text": [
      "{1975: 22.815293120619042, 1976: 22.9241802477619, 1977: 23.031595952952376, 1978: 23.137600738285713, 1979: 23.24255734752381, 1980: 23.346754982666667, 1981: 23.450199129190477, 1982: 23.552953701285713, 1983: 23.655087337333335, 1984: 23.756502500904762, 1985: 23.857129492142857, 1986: 23.956653283095235, 1987: 24.055104526190476, 1988: 24.152696391619045, 1989: 24.24951272052381, 1990: 24.345614917380953, 1991: 24.43972195609524, 1992: 24.532195942190473, 1993: 24.623176612714285, 1994: 24.712951589142858, 1995: 24.80233567804762, 1996: 24.89142934809524, 1997: 24.980337811714282, 1998: 25.069165374904767, 1999: 25.157627925285713, 2000: 25.24507259085714, 2001: 25.33133892595238, 2002: 25.41605285495238, 2003: 25.498909536571425, 2004: 25.57987708695238, 2005: 25.65873834585714, 2006: 25.73597589552381, 2007: 25.812173036714288, 2008: 25.887723173190476, 2009: 25.962537409285712, 2010: 26.036436405714284, 2011: 26.10982170866667, 2012: 26.182815187476187, 2013: 26.255685915285714, 2014: 26.328335876190476, 2015: 26.40060798228571, 2016: 26.47231189352381}\n"
     ]
    }
   ],
   "source": [
    "# Dictionary zur Speicherung der Durchschnittswerte df2\n",
    "avg_dict = {year: df2[df2['Jahr'] == year]['Woman BMI'].mean() for year in years}\n",
    "print(avg_dict)"
   ]
  },
  {
   "cell_type": "code",
   "execution_count": 72,
   "id": "4752aa03",
   "metadata": {},
   "outputs": [
    {
     "name": "stdout",
     "output_type": "stream",
     "text": [
      "{1975: 22.25229121247619, 1976: 22.351901213190477, 1977: 22.45090283728571, 1978: 22.549517924714287, 1979: 22.647890816904763, 1980: 22.74603592761905, 1981: 22.84385786095238, 1982: 22.94121179214286, 1983: 23.038022751904762, 1984: 23.134107658190477, 1985: 23.229228317857146, 1986: 23.322938882571425, 1987: 23.415285139714285, 1988: 23.506425483, 1989: 23.59623427595238, 1990: 23.684723951, 1991: 23.7711451267619, 1992: 23.855723049428573, 1993: 23.938829697285716, 1994: 24.02058278676191, 1995: 24.101182015666666, 1996: 24.181164705476192, 1997: 24.260510929380953, 1998: 24.339796018666668, 1999: 24.418841530285714, 2000: 24.497432771619053, 2001: 24.576039304142856, 2002: 24.654702954571427, 2003: 24.733390971476197, 2004: 24.811827300238093, 2005: 24.889375833095237, 2006: 24.96603529547619, 2007: 25.04166214504762, 2008: 25.116178088666665, 2009: 25.189274564, 2010: 25.260858823190475, 2011: 25.33188155885714, 2012: 25.402458171190474, 2013: 25.47298017552381, 2014: 25.54407101561905, 2015: 25.61549880528571, 2016: 25.687209546380952}\n"
     ]
    }
   ],
   "source": [
    "# Dictionary zur Speicherung der Durchschnittswerte df2\n",
    "avg_dict = {year: df3[df3['Jahr'] == year]['Man BMI'].mean() for year in years}\n",
    "print(avg_dict)"
   ]
  },
  {
   "cell_type": "markdown",
   "id": "632e9e7a",
   "metadata": {},
   "source": [
    "### Länder mit extremen Werten identifizieren"
   ]
  },
  {
   "cell_type": "code",
   "execution_count": 73,
   "id": "ef4fa378",
   "metadata": {},
   "outputs": [
    {
     "name": "stdout",
     "output_type": "stream",
     "text": [
      "Top 5 Länder mit der höchsten Fettleibigkeit:\n",
      "Gebiet\n",
      "Nauru               51.373810\n",
      "Palau               39.876190\n",
      "Cook Islands        39.450000\n",
      "Marshall Islands    38.183333\n",
      "Tuvalu              32.857143\n",
      "Name: Fettleibigkeit, dtype: float64\n",
      "Bottom 5 Länder mit der niedrigsten Fettleibigkeit:\n",
      "Gebiet\n",
      "Vietnam       0.630952\n",
      "East Timor    1.109524\n",
      "Bangladesh    1.145238\n",
      "Cambodia      1.226190\n",
      "Nepal         1.361905\n",
      "Name: Fettleibigkeit, dtype: float64\n"
     ]
    }
   ],
   "source": [
    "mean_per_country_all = df.groupby('Gebiet')['Fettleibigkeit'].mean()\n",
    "\n",
    "# Top 5 Länder\n",
    "top_5_all = mean_per_country_all.sort_values(ascending=False).head(5)\n",
    "print(\"Top 5 Länder mit der höchsten Fettleibigkeit:\")\n",
    "print(top_5_all)\n",
    "\n",
    "# Bottom 5 Länder\n",
    "bottom_5_all = mean_per_country_all.sort_values().head(5)\n",
    "print(\"Bottom 5 Länder mit der niedrigsten Fettleibigkeit:\")\n",
    "print(bottom_5_all)\n"
   ]
  },
  {
   "cell_type": "code",
   "execution_count": 50,
   "id": "a52f75b4",
   "metadata": {},
   "outputs": [
    {
     "name": "stdout",
     "output_type": "stream",
     "text": [
      "Top 5 Länder mit der Woman BMI:\n",
      "Gebiet\n",
      "American Samoa    34.386760\n",
      "Nauru             33.922281\n",
      "Tonga             31.890939\n",
      "Cook Islands      31.500452\n",
      "Samoa             31.275493\n",
      "Name: Woman BMI, dtype: float64\n",
      "Bottom 5 Länder mit der niedrigsten Woman BMI\n",
      "Gebiet\n",
      "Bangladesh    19.244267\n",
      "East Timor    19.474130\n",
      "Ethiopia      19.542715\n",
      "Vietnam       19.697406\n",
      "Nepal         19.727095\n",
      "Name: Woman BMI, dtype: float64\n"
     ]
    }
   ],
   "source": [
    "mean_per_country_woman = df2.groupby('Gebiet')['Woman BMI'].mean()\n",
    "\n",
    "# Top 5 Länder\n",
    "top_5_woman = mean_per_country_woman.sort_values(ascending=False).head(5)\n",
    "print(\"Top 5 Länder mit der Woman BMI:\")\n",
    "print(top_5_woman)\n",
    "\n",
    "# Bottom 5 Länder\n",
    "bottom_5_woman = mean_per_country_woman.sort_values().head(5)\n",
    "print(\"Bottom 5 Länder mit der niedrigsten Woman BMI\")\n",
    "print(bottom_5_woman)\n"
   ]
  },
  {
   "cell_type": "code",
   "execution_count": 51,
   "id": "59e51ea9",
   "metadata": {},
   "outputs": [
    {
     "name": "stdout",
     "output_type": "stream",
     "text": [
      "Top 5 Länder mit der Man BMI:\n",
      "Gebiet\n",
      "Nauru             32.676798\n",
      "American Samoa    32.457527\n",
      "Cook Islands      30.772765\n",
      "Tokelau           30.276376\n",
      "Niue              29.849304\n",
      "Name: Man BMI, dtype: float64\n",
      "Bottom 5 Länder mit der niedrigsten Man BMI\n",
      "Gebiet\n",
      "Ethiopia      19.262044\n",
      "East Timor    19.686377\n",
      "Eritrea       19.709991\n",
      "Vietnam       19.810492\n",
      "Rwanda        19.911151\n",
      "Name: Man BMI, dtype: float64\n"
     ]
    }
   ],
   "source": [
    "mean_per_country_man = df3.groupby('Gebiet')['Man BMI'].mean()\n",
    "\n",
    "# Top 5 Länder\n",
    "top_5_man = mean_per_country_man.sort_values(ascending=False).head(5)\n",
    "print(\"Top 5 Länder mit der Man BMI:\")\n",
    "print(top_5_man)\n",
    "\n",
    "# Bottom 5 Länder\n",
    "bottom_5_man = mean_per_country_man.sort_values().head(5)\n",
    "print(\"Bottom 5 Länder mit der niedrigsten Man BMI\")\n",
    "print(bottom_5_man)"
   ]
  },
  {
   "cell_type": "code",
   "execution_count": 56,
   "id": "b1e16f04",
   "metadata": {},
   "outputs": [
    {
     "data": {
      "image/png": "[encoded data removed]",
      "text/plain": [
       "<Figure size 1200x600 with 1 Axes>"
      ]
     },
     "metadata": {},
     "output_type": "display_data"
    }
   ],
   "source": [
    "plt.figure(figsize=(12, 6))\n",
    "\n",
    "# Plot der Top 5 Länder\n",
    "plt.barh(top_5_all.index, top_5_all.values, color='red', label='Top 5 Länder')\n",
    "\n",
    "# Plot der Bottom 5 Länder\n",
    "plt.barh(bottom_5_all.index, bottom_5_all.values, color='green', label='Bottom 5 Länder')\n",
    "\n",
    "plt.title('Top 5 und Bottom 5 Länder nach durchschnittlicher Fettleibigkeit')\n",
    "plt.xlabel('Durchschnittliche Fettleibigkeit (%)')\n",
    "plt.ylabel('Gebiet')\n",
    "plt.legend()\n",
    "plt.show()\n"
   ]
  },
  {
   "cell_type": "code",
   "execution_count": 48,
   "id": "900f1dea",
   "metadata": {},
   "outputs": [
    {
     "data": {
      "text/plain": [
       "Gebiet\n",
       "Nauru               51.373810\n",
       "Palau               39.876190\n",
       "Cook Islands        39.450000\n",
       "Marshall Islands    38.183333\n",
       "Tuvalu              32.857143\n",
       "Name: Fettleibigkeit, dtype: float64"
      ]
     },
     "execution_count": 48,
     "metadata": {},
     "output_type": "execute_result"
    }
   ],
   "source": [
    "top_5"
   ]
  },
  {
   "cell_type": "code",
   "execution_count": 54,
   "id": "1cddffae",
   "metadata": {},
   "outputs": [
    {
     "data": {
      "image/png": "[encoded data removed]",
      "text/plain": [
       "<Figure size 1200x600 with 1 Axes>"
      ]
     },
     "metadata": {},
     "output_type": "display_data"
    }
   ],
   "source": [
    "#für df2 ???\n",
    "plt.figure(figsize=(12, 6))\n",
    "\n",
    "# Plot der Top 5 Länder\n",
    "plt.barh(top_5_woman.index, top_5_woman.values, color='red', label='Top 5 Länder')\n",
    "\n",
    "# Plot der Bottom 5 Länder\n",
    "plt.barh(bottom_5_woman.index, bottom_5_woman.values, color='green', label='Bottom 5 Länder')\n",
    "\n",
    "plt.title('Top 5 und Bottom 5 Länder nach Woman BMI')\n",
    "plt.xlabel('Durchschnittliche Woman BMI (%)')\n",
    "plt.ylabel('Gebiet')\n",
    "plt.legend()\n",
    "plt.show()"
   ]
  },
  {
   "cell_type": "code",
   "execution_count": 57,
   "id": "75e36758",
   "metadata": {},
   "outputs": [
    {
     "data": {
      "image/png": "[encoded data removed]",
      "text/plain": [
       "<Figure size 1200x600 with 1 Axes>"
      ]
     },
     "metadata": {},
     "output_type": "display_data"
    }
   ],
   "source": [
    "#für df3???\n",
    "plt.figure(figsize=(12, 6))\n",
    "\n",
    "# Plot der Top 5 Länder\n",
    "plt.barh(top_5_man.index, top_5_man.values, color='red', label='Top 5 Länder')\n",
    "\n",
    "# Plot der Bottom 5 Länder\n",
    "plt.barh(bottom_5_man.index, bottom_5_man.values, color='green', label='Bottom 5 Länder')\n",
    "\n",
    "plt.title('Top 5 und Bottom 5 Länder nach Man BMI')\n",
    "plt.xlabel('Durchschnittliche Man BMI (%)')\n",
    "plt.ylabel('Gebiet')\n",
    "plt.legend()\n",
    "plt.show()"
   ]
  },
  {
   "cell_type": "code",
   "execution_count": 56,
   "id": "6d307b2d",
   "metadata": {},
   "outputs": [
    {
     "name": "stdout",
     "output_type": "stream",
     "text": [
      "Länder mit einer Fettleibigkeitsrate über 30%:\n",
      "             Gebiet Code  Jahr  Fettleibigkeit\n",
      "461       Australia  AUS  2016            30.4\n",
      "584         Bahamas  BHS  2013            30.3\n",
      "585         Bahamas  BHS  2014            30.9\n",
      "586         Bahamas  BHS  2015            31.5\n",
      "587         Bahamas  BHS  2016            32.1\n",
      "...             ...  ...   ...             ...\n",
      "7891  United States  USA  2012            34.7\n",
      "7892  United States  USA  2013            35.4\n",
      "7893  United States  USA  2014            36.0\n",
      "7894  United States  USA  2015            36.7\n",
      "7895  United States  USA  2016            37.3\n",
      "\n",
      "[332 rows x 4 columns]\n"
     ]
    }
   ],
   "source": [
    "# Beispiel: Nur Länder mit einer Fettleibigkeitsrate > 30%\n",
    "high_obesity = df[df['Fettleibigkeit'] > 30]\n",
    "if not high_obesity.empty:\n",
    "    print(\"Länder mit einer Fettleibigkeitsrate über 30%:\")\n",
    "    print(high_obesity)\n"
   ]
  },
  {
   "cell_type": "code",
   "execution_count": 45,
   "id": "8ec1a424",
   "metadata": {},
   "outputs": [
    {
     "name": "stdout",
     "output_type": "stream",
     "text": [
      "Länder mit einer BMI über 30(female):\n",
      "              Gebiet Code  Jahr  Woman BMI\n",
      "126   American Samoa  ASM  1975  32.258886\n",
      "127   American Samoa  ASM  1976  32.403470\n",
      "128   American Samoa  ASM  1977  32.547337\n",
      "129   American Samoa  ASM  1978  32.689690\n",
      "130   American Samoa  ASM  1979  32.830923\n",
      "...              ...  ...   ...        ...\n",
      "8227          Tuvalu  TUV  2012  31.626598\n",
      "8228          Tuvalu  TUV  2013  31.690564\n",
      "8229          Tuvalu  TUV  2014  31.752743\n",
      "8230          Tuvalu  TUV  2015  31.813266\n",
      "8231          Tuvalu  TUV  2016  31.871330\n",
      "\n",
      "[368 rows x 4 columns]\n"
     ]
    }
   ],
   "source": [
    "# Beispiel: Nur Länder mit einer BMI > 30\n",
    "high_obesity = df2[df2['Woman BMI'] > 30]\n",
    "if not high_obesity.empty:\n",
    "    print(\"Länder mit einer BMI über 30(female):\")\n",
    "    print(high_obesity)"
   ]
  },
  {
   "cell_type": "code",
   "execution_count": 44,
   "id": "6c80be8f",
   "metadata": {},
   "outputs": [
    {
     "name": "stdout",
     "output_type": "stream",
     "text": [
      "Länder mit einer BMI über 30(male):\n",
      "              Gebiet Code  Jahr    Man BMI\n",
      "130   American Samoa  ASM  1979  30.148287\n",
      "131   American Samoa  ASM  1980  30.424760\n",
      "132   American Samoa  ASM  1981  30.699517\n",
      "133   American Samoa  ASM  1982  30.971502\n",
      "134   American Samoa  ASM  1983  31.238396\n",
      "...              ...  ...   ...        ...\n",
      "8021           Tonga  TON  2016  30.723402\n",
      "8228          Tuvalu  TUV  2013  30.046837\n",
      "8229          Tuvalu  TUV  2014  30.109515\n",
      "8230          Tuvalu  TUV  2015  30.171987\n",
      "8231          Tuvalu  TUV  2016  30.233211\n",
      "\n",
      "[192 rows x 4 columns]\n"
     ]
    }
   ],
   "source": [
    "# Beispiel: Nur Länder mit einer BMI > 30\n",
    "high_obesity = df3[df3['Man BMI'] > 30]\n",
    "if not high_obesity.empty:\n",
    "    print(\"Länder mit einer BMI über 30(male):\")\n",
    "    print(high_obesity)"
   ]
  },
  {
   "cell_type": "markdown",
   "id": "3924f1c1",
   "metadata": {},
   "source": [
    "### Verteilung der Fettleibigkeitswerte analysieren"
   ]
  },
  {
   "cell_type": "code",
   "execution_count": 45,
   "id": "5328eb67",
   "metadata": {},
   "outputs": [
    {
     "data": {
      "image/png": "[encoded data removed]",
      "text/plain": [
       "<Figure size 800x600 with 1 Axes>"
      ]
     },
     "metadata": {},
     "output_type": "display_data"
    }
   ],
   "source": [
    "import seaborn as sns\n",
    "\n",
    "plt.figure(figsize=(8, 6))\n",
    "sns.boxplot(x=df['Fettleibigkeit'])\n",
    "plt.title('Boxplot der Fettleibigkeitswerte')\n",
    "plt.show()\n"
   ]
  },
  {
   "cell_type": "code",
   "execution_count": 46,
   "id": "ee3d37b8",
   "metadata": {},
   "outputs": [
    {
     "data": {
      "image/png": "[encoded data removed]",
      "text/plain": [
       "<Figure size 800x600 with 1 Axes>"
      ]
     },
     "metadata": {},
     "output_type": "display_data"
    }
   ],
   "source": [
    "import seaborn as sns\n",
    "\n",
    "plt.figure(figsize=(8, 6))\n",
    "sns.boxplot(x=df2['Woman BMI'])\n",
    "plt.title('Boxplot der Woman BMI')\n",
    "plt.show()"
   ]
  },
  {
   "cell_type": "code",
   "execution_count": 46,
   "id": "21f6ca0c",
   "metadata": {},
   "outputs": [
    {
     "data": {
      "image/png": "[encoded data removed]",
      "text/plain": [
       "<Figure size 800x600 with 1 Axes>"
      ]
     },
     "metadata": {},
     "output_type": "display_data"
    }
   ],
   "source": [
    "import seaborn as sns\n",
    "\n",
    "plt.figure(figsize=(8, 6))\n",
    "sns.boxplot(x=df3['Man BMI'])\n",
    "plt.title('Boxplot der Man BMI')\n",
    "plt.show()"
   ]
  },
  {
   "cell_type": "code",
   "execution_count": null,
   "id": "b6263b1c",
   "metadata": {},
   "outputs": [
    {
     "name": "stdout",
     "output_type": "stream",
     "text": [
      "Der globale Durchschnitt der Woman BMI beträgt: 24.78\n"
     ]
    }
   ],
   "source": [
    "# Globaler Durchschnitt der BMI berechnen\n",
    "global_mean = df2['Woman BMI'].mean()\n",
    "print(f\"Der globale Durchschnitt der Woman BMI beträgt: {global_mean:.2f}\")\n"
   ]
  },
  {
   "cell_type": "code",
   "execution_count": 47,
   "id": "ff3f12cb",
   "metadata": {},
   "outputs": [
    {
     "name": "stdout",
     "output_type": "stream",
     "text": [
      "Der globale Durchschnitt der Man BMI beträgt: 24.08\n"
     ]
    }
   ],
   "source": [
    "# Globaler Durchschnitt der BMI berechnen\n",
    "global_mean = df3['Man BMI'].mean()\n",
    "print(f\"Der globale Durchschnitt der Man BMI beträgt: {global_mean:.2f}\")"
   ]
  },
  {
   "cell_type": "code",
   "execution_count": 48,
   "id": "f6f61530",
   "metadata": {},
   "outputs": [
    {
     "name": "stdout",
     "output_type": "stream",
     "text": [
      "Der globale Durchschnitt der Fettleibigkeitsrate beträgt: 11.87%\n"
     ]
    }
   ],
   "source": [
    "# Globaler Durchschnitt der Fettleibigkeitsrate berechnen\n",
    "global_mean = df['Fettleibigkeit'].mean()\n",
    "print(f\"Der globale Durchschnitt der Fettleibigkeitsrate beträgt: {global_mean:.2f}%\")"
   ]
  }
 ],
 "metadata": {
  "kernelspec": {
   "display_name": "base",
   "language": "python",
   "name": "python3"
  },
  "language_info": {
   "codemirror_mode": {
    "name": "ipython",
    "version": 3
   },
   "file_extension": ".py",
   "mimetype": "text/x-python",
   "name": "python",
   "nbconvert_exporter": "python",
   "pygments_lexer": "ipython3",
   "version": "3.12.4"
  }
 },
 "nbformat": 4,
 "nbformat_minor": 5
}
